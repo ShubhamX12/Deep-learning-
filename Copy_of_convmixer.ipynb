{
  "cells": [
    {
      "cell_type": "markdown",
      "metadata": {
        "id": "view-in-github",
        "colab_type": "text"
      },
      "source": [
        "<a href=\"https://colab.research.google.com/github/ShubhamX12/Deep-learning-/blob/main/Copy_of_convmixer.ipynb\" target=\"_parent\"><img src=\"https://colab.research.google.com/assets/colab-badge.svg\" alt=\"Open In Colab\"/></a>"
      ]
    },
    {
      "cell_type": "markdown",
      "metadata": {
        "id": "DKVTfNFwdqHK"
      },
      "source": [
        "## Imports"
      ]
    },
    {
      "cell_type": "code",
      "source": [
        "import tensorflow as tf\n",
        "import matplotlib.pyplot as plt\n",
        "import numpy as np\n",
        "import os\n",
        "import tensorflow as tf\n",
        "from tensorflow import keras\n",
        "from keras import layers\n",
        "import matplotlib.image as img\n",
        "%matplotlib inline"
      ],
      "metadata": {
        "id": "G5x4j-USd_w8"
      },
      "execution_count": 1,
      "outputs": []
    },
    {
      "cell_type": "code",
      "source": [
        "import tensorflow as tf\n",
        "tf.__version__"
      ],
      "metadata": {
        "id": "Qog3SpFCe4vL",
        "outputId": "77e6d494-c05b-4566-a090-0928ee0b0b3f",
        "colab": {
          "base_uri": "https://localhost:8080/",
          "height": 35
        }
      },
      "execution_count": null,
      "outputs": [
        {
          "output_type": "execute_result",
          "data": {
            "text/plain": [
              "'2.12.0'"
            ],
            "application/vnd.google.colaboratory.intrinsic+json": {
              "type": "string"
            }
          },
          "metadata": {},
          "execution_count": 3
        }
      ]
    },
    {
      "cell_type": "code",
      "source": [
        "from google.colab import drive\n",
        "drive.mount('/content/gdrive')"
      ],
      "metadata": {
        "id": "t93_Xiqje8Ry",
        "outputId": "213f4c1b-7b11-43b4-858f-8b6c0e2b8b7e",
        "colab": {
          "base_uri": "https://localhost:8080/"
        }
      },
      "execution_count": 2,
      "outputs": [
        {
          "output_type": "stream",
          "name": "stdout",
          "text": [
            "Mounted at /content/gdrive\n"
          ]
        }
      ]
    },
    {
      "cell_type": "code",
      "source": [
        "!pip install split-folders\n",
        "import splitfolders\n",
        "splitfolders.ratio('/content/gdrive/MyDrive/AlzimerSVMModel/Preprocessd', output=\"output\", ratio=(.75,0,0.25)) "
      ],
      "metadata": {
        "id": "UF1w0pdRe8YW",
        "outputId": "4927aced-a068-46e9-f3e4-20d1af8edcfd",
        "colab": {
          "base_uri": "https://localhost:8080/",
          "height": 522
        }
      },
      "execution_count": 3,
      "outputs": [
        {
          "output_type": "stream",
          "name": "stdout",
          "text": [
            "Looking in indexes: https://pypi.org/simple, https://us-python.pkg.dev/colab-wheels/public/simple/\n",
            "Collecting split-folders\n",
            "  Downloading split_folders-0.5.1-py3-none-any.whl (8.4 kB)\n",
            "Installing collected packages: split-folders\n",
            "Successfully installed split-folders-0.5.1\n"
          ]
        },
        {
          "output_type": "error",
          "ename": "ValueError",
          "evalue": "ignored",
          "traceback": [
            "\u001b[0;31m---------------------------------------------------------------------------\u001b[0m",
            "\u001b[0;31mValueError\u001b[0m                                Traceback (most recent call last)",
            "\u001b[0;32m<ipython-input-3-ebd9e18c1373>\u001b[0m in \u001b[0;36m<cell line: 3>\u001b[0;34m()\u001b[0m\n\u001b[1;32m      1\u001b[0m \u001b[0mget_ipython\u001b[0m\u001b[0;34m(\u001b[0m\u001b[0;34m)\u001b[0m\u001b[0;34m.\u001b[0m\u001b[0msystem\u001b[0m\u001b[0;34m(\u001b[0m\u001b[0;34m'pip install split-folders'\u001b[0m\u001b[0;34m)\u001b[0m\u001b[0;34m\u001b[0m\u001b[0;34m\u001b[0m\u001b[0m\n\u001b[1;32m      2\u001b[0m \u001b[0;32mimport\u001b[0m \u001b[0msplitfolders\u001b[0m\u001b[0;34m\u001b[0m\u001b[0;34m\u001b[0m\u001b[0m\n\u001b[0;32m----> 3\u001b[0;31m \u001b[0msplitfolders\u001b[0m\u001b[0;34m.\u001b[0m\u001b[0mratio\u001b[0m\u001b[0;34m(\u001b[0m\u001b[0;34m'/content/gdrive/MyDrive/AlzimerSVMModel/Preprocessd'\u001b[0m\u001b[0;34m,\u001b[0m \u001b[0moutput\u001b[0m\u001b[0;34m=\u001b[0m\u001b[0;34m\"output\"\u001b[0m\u001b[0;34m,\u001b[0m \u001b[0mratio\u001b[0m\u001b[0;34m=\u001b[0m\u001b[0;34m(\u001b[0m\u001b[0;36m.75\u001b[0m\u001b[0;34m,\u001b[0m\u001b[0;36m0\u001b[0m\u001b[0;34m,\u001b[0m\u001b[0;36m0.25\u001b[0m\u001b[0;34m)\u001b[0m\u001b[0;34m)\u001b[0m\u001b[0;34m\u001b[0m\u001b[0;34m\u001b[0m\u001b[0m\n\u001b[0m",
            "\u001b[0;32m/usr/local/lib/python3.10/dist-packages/splitfolders/split.py\u001b[0m in \u001b[0;36mratio\u001b[0;34m(input, output, seed, ratio, group_prefix, move)\u001b[0m\n\u001b[1;32m     79\u001b[0m         \u001b[0;32mraise\u001b[0m \u001b[0mValueError\u001b[0m\u001b[0;34m(\u001b[0m\u001b[0;34m\"`ratio` should\"\u001b[0m\u001b[0;34m)\u001b[0m\u001b[0;34m\u001b[0m\u001b[0;34m\u001b[0m\u001b[0m\n\u001b[1;32m     80\u001b[0m \u001b[0;34m\u001b[0m\u001b[0m\n\u001b[0;32m---> 81\u001b[0;31m     \u001b[0mcheck_input_format\u001b[0m\u001b[0;34m(\u001b[0m\u001b[0minput\u001b[0m\u001b[0;34m)\u001b[0m\u001b[0;34m\u001b[0m\u001b[0;34m\u001b[0m\u001b[0m\n\u001b[0m\u001b[1;32m     82\u001b[0m \u001b[0;34m\u001b[0m\u001b[0m\n\u001b[1;32m     83\u001b[0m     \u001b[0;32mif\u001b[0m \u001b[0muse_tqdm\u001b[0m\u001b[0;34m:\u001b[0m\u001b[0;34m\u001b[0m\u001b[0;34m\u001b[0m\u001b[0m\n",
            "\u001b[0;32m/usr/local/lib/python3.10/dist-packages/splitfolders/split.py\u001b[0m in \u001b[0;36mcheck_input_format\u001b[0;34m(input)\u001b[0m\n\u001b[1;32m     54\u001b[0m         \u001b[0;32mif\u001b[0m \u001b[0;32mnot\u001b[0m \u001b[0mp_input\u001b[0m\u001b[0;34m.\u001b[0m\u001b[0mis_absolute\u001b[0m\u001b[0;34m(\u001b[0m\u001b[0;34m)\u001b[0m\u001b[0;34m:\u001b[0m\u001b[0;34m\u001b[0m\u001b[0;34m\u001b[0m\u001b[0m\n\u001b[1;32m     55\u001b[0m             \u001b[0merr_msg\u001b[0m \u001b[0;34m+=\u001b[0m \u001b[0;34mf' Your relative path cannot be found from the current working directory \"{Path.cwd()}\".'\u001b[0m\u001b[0;34m\u001b[0m\u001b[0;34m\u001b[0m\u001b[0m\n\u001b[0;32m---> 56\u001b[0;31m         \u001b[0;32mraise\u001b[0m \u001b[0mValueError\u001b[0m\u001b[0;34m(\u001b[0m\u001b[0merr_msg\u001b[0m\u001b[0;34m)\u001b[0m\u001b[0;34m\u001b[0m\u001b[0;34m\u001b[0m\u001b[0m\n\u001b[0m\u001b[1;32m     57\u001b[0m \u001b[0;34m\u001b[0m\u001b[0m\n\u001b[1;32m     58\u001b[0m     \u001b[0;32mif\u001b[0m \u001b[0;32mnot\u001b[0m \u001b[0mp_input\u001b[0m\u001b[0;34m.\u001b[0m\u001b[0mis_dir\u001b[0m\u001b[0;34m(\u001b[0m\u001b[0;34m)\u001b[0m\u001b[0;34m:\u001b[0m\u001b[0;34m\u001b[0m\u001b[0;34m\u001b[0m\u001b[0m\n",
            "\u001b[0;31mValueError\u001b[0m: The provided input folder \"/content/gdrive/MyDrive/AlzimerSVMModel/Preprocessd\" does not exists."
          ]
        }
      ]
    },
    {
      "cell_type": "code",
      "source": [
        "IMG_HEIGHT = 32\n",
        "IMG_WIDTH = 32\n",
        "train_ds = tf.keras.preprocessing.image_dataset_from_directory(\n",
        "\"./output/train\",\n",
        "seed=123,\n",
        "image_size=(IMG_HEIGHT, IMG_WIDTH),\n",
        "batch_size=64\n",
        ")"
      ],
      "metadata": {
        "id": "o5ue8Y4ufRh8",
        "outputId": "1a466bf0-6a35-4c02-8d55-f5d3479a50f4",
        "colab": {
          "base_uri": "https://localhost:8080/"
        }
      },
      "execution_count": null,
      "outputs": [
        {
          "output_type": "stream",
          "name": "stdout",
          "text": [
            "Found 4800 files belonging to 4 classes.\n"
          ]
        }
      ]
    },
    {
      "cell_type": "code",
      "source": [
        "train_ds_images = [images for images, _ in train_ds.unbatch()]\n",
        "train_ds_labels = [labels for _, labels in train_ds.unbatch()]\n",
        "train_ds_images = np.array(train_ds_images)\n",
        "train_ds_labels = np.array(train_ds_labels)"
      ],
      "metadata": {
        "id": "psLvam3FfTQr"
      },
      "execution_count": null,
      "outputs": []
    },
    {
      "cell_type": "code",
      "source": [
        "test_ds = tf.keras.preprocessing.image_dataset_from_directory(\n",
        "\"./output/test\",\n",
        "seed=123,\n",
        "image_size=(IMG_HEIGHT, IMG_WIDTH),\n",
        "batch_size=16\n",
        ")"
      ],
      "metadata": {
        "id": "xy4ss6rsfUJU",
        "outputId": "572691b4-a1c8-4fc2-fac7-4c561ba861bc",
        "colab": {
          "base_uri": "https://localhost:8080/"
        }
      },
      "execution_count": null,
      "outputs": [
        {
          "output_type": "stream",
          "name": "stdout",
          "text": [
            "Found 1600 files belonging to 4 classes.\n"
          ]
        }
      ]
    },
    {
      "cell_type": "code",
      "source": [
        "test_ds_images = [images for images, _ in test_ds.unbatch()]\n",
        "test_ds_labels = [labels for _, labels in test_ds.unbatch()]\n",
        "test_ds_images = np.array(test_ds_images)\n",
        "test_ds_labels = np.array(test_ds_labels)"
      ],
      "metadata": {
        "id": "JGWFF7A2fWRh"
      },
      "execution_count": null,
      "outputs": []
    },
    {
      "cell_type": "code",
      "source": [
        "class_names = train_ds.class_names\n",
        "print(test_ds_images.shape,test_ds_labels.shape)\n",
        "print(class_names)"
      ],
      "metadata": {
        "id": "NVMbSx1WfY-K",
        "outputId": "6c27b7dd-3028-4f1c-cf37-bfc7590086b9",
        "colab": {
          "base_uri": "https://localhost:8080/"
        }
      },
      "execution_count": null,
      "outputs": [
        {
          "output_type": "stream",
          "name": "stdout",
          "text": [
            "(1600, 32, 32, 3) (1600,)\n",
            "['Mild_Demented', 'Moderate_Demented', 'Non_Demented', 'Very_Mild_Demented']\n"
          ]
        }
      ]
    },
    {
      "cell_type": "code",
      "source": [
        "!pip install -U tensorflow-addons"
      ],
      "metadata": {
        "id": "wgz6v0DefbsN",
        "outputId": "7e3f95e4-a2d6-46e0-c6ee-1f870e41eef9",
        "colab": {
          "base_uri": "https://localhost:8080/"
        }
      },
      "execution_count": null,
      "outputs": [
        {
          "output_type": "stream",
          "name": "stdout",
          "text": [
            "Looking in indexes: https://pypi.org/simple, https://us-python.pkg.dev/colab-wheels/public/simple/\n",
            "Collecting tensorflow-addons\n",
            "  Downloading tensorflow_addons-0.20.0-cp310-cp310-manylinux_2_17_x86_64.manylinux2014_x86_64.whl (591 kB)\n",
            "\u001b[2K     \u001b[90m━━━━━━━━━━━━━━━━━━━━━━━━━━━━━━━━━━━━━━\u001b[0m \u001b[32m591.0/591.0 kB\u001b[0m \u001b[31m11.4 MB/s\u001b[0m eta \u001b[36m0:00:00\u001b[0m\n",
            "\u001b[?25hRequirement already satisfied: packaging in /usr/local/lib/python3.10/dist-packages (from tensorflow-addons) (23.1)\n",
            "Collecting typeguard<3.0.0,>=2.7\n",
            "  Downloading typeguard-2.13.3-py3-none-any.whl (17 kB)\n",
            "Installing collected packages: typeguard, tensorflow-addons\n",
            "Successfully installed tensorflow-addons-0.20.0 typeguard-2.13.3\n"
          ]
        }
      ]
    },
    {
      "cell_type": "code",
      "execution_count": null,
      "metadata": {
        "id": "qAsTyCO-dqHL",
        "outputId": "e335969b-9687-47b4-a2ad-72715b18d37e",
        "colab": {
          "base_uri": "https://localhost:8080/"
        }
      },
      "outputs": [
        {
          "output_type": "stream",
          "name": "stderr",
          "text": [
            "/usr/local/lib/python3.10/dist-packages/tensorflow_addons/utils/tfa_eol_msg.py:23: UserWarning: \n",
            "\n",
            "TensorFlow Addons (TFA) has ended development and introduction of new features.\n",
            "TFA has entered a minimal maintenance and release mode until a planned end of life in May 2024.\n",
            "Please modify downstream libraries to take dependencies from other repositories in our TensorFlow community (e.g. Keras, Keras-CV, and Keras-NLP). \n",
            "\n",
            "For more information see: https://github.com/tensorflow/addons/issues/2807 \n",
            "\n",
            "  warnings.warn(\n"
          ]
        }
      ],
      "source": [
        "from tensorflow.keras import layers\n",
        "from tensorflow import keras\n",
        "\n",
        "import matplotlib.pyplot as plt\n",
        "import tensorflow_addons as tfa\n",
        "import tensorflow as tf\n",
        "import numpy as np"
      ]
    },
    {
      "cell_type": "code",
      "source": [
        "import tensorflow as tf\n",
        "tf.__version__"
      ],
      "metadata": {
        "id": "fKJDNpV5eqsC",
        "outputId": "5eb0274e-8560-453e-8fc7-dee4f2240c86",
        "colab": {
          "base_uri": "https://localhost:8080/",
          "height": 35
        }
      },
      "execution_count": null,
      "outputs": [
        {
          "output_type": "execute_result",
          "data": {
            "text/plain": [
              "'2.12.0'"
            ],
            "application/vnd.google.colaboratory.intrinsic+json": {
              "type": "string"
            }
          },
          "metadata": {},
          "execution_count": 20
        }
      ]
    },
    {
      "cell_type": "markdown",
      "metadata": {
        "id": "lkRpTfV2dqHN"
      },
      "source": [
        "## Hyperparameters\n",
        "\n",
        "To keep run time short, we will train the model for only 10 epochs. To focus on\n",
        "the core ideas of ConvMixer, we will not use other training-specific elements like\n",
        "RandAugment ([Cubuk et al.](https://arxiv.org/abs/1909.13719)). If you are interested in\n",
        "learning more about those details, please refer to the\n",
        "[original paper](https://openreview.net/pdf?id=TVHS5Y4dNvM)."
      ]
    },
    {
      "cell_type": "code",
      "execution_count": null,
      "metadata": {
        "id": "asN_pMw_dqHO"
      },
      "outputs": [],
      "source": [
        "learning_rate = 0.001\n",
        "weight_decay = 0.0001\n",
        "batch_size = 128\n",
        "num_epochs = 150"
      ]
    },
    {
      "cell_type": "markdown",
      "metadata": {
        "id": "kWyDoXPIdqHO"
      },
      "source": [
        "## Load the CIFAR-10 dataset"
      ]
    },
    {
      "cell_type": "code",
      "execution_count": null,
      "metadata": {
        "id": "QLERZkkjdqHO",
        "outputId": "8b5fd88c-be7e-44ae-f384-2683c3f8b511",
        "colab": {
          "base_uri": "https://localhost:8080/"
        }
      },
      "outputs": [
        {
          "output_type": "stream",
          "name": "stdout",
          "text": [
            "Training data samples: 4320\n",
            "Validation data samples: 480\n",
            "Test data samples: 1600\n"
          ]
        }
      ],
      "source": [
        "x_train=train_ds_images\n",
        "y_train=train_ds_labels\n",
        "x_test=test_ds_images\n",
        "y_test=test_ds_labels\n",
        "val_split = 0.1\n",
        "\n",
        "val_indices = int(len(x_train) * val_split)\n",
        "new_x_train, new_y_train = x_train[val_indices:], y_train[val_indices:]\n",
        "x_val, y_val = x_train[:val_indices], y_train[:val_indices]\n",
        "\n",
        "print(f\"Training data samples: {len(new_x_train)}\")\n",
        "print(f\"Validation data samples: {len(x_val)}\")\n",
        "print(f\"Test data samples: {len(x_test)}\")"
      ]
    },
    {
      "cell_type": "markdown",
      "metadata": {
        "id": "bKTB8DoMdqHP"
      },
      "source": [
        "## Prepare `tf.data.Dataset` objects\n",
        "\n",
        "Our data augmentation pipeline is different from what the authors used for the CIFAR-10\n",
        "dataset, which is fine for the purpose of the example."
      ]
    },
    {
      "cell_type": "code",
      "execution_count": null,
      "metadata": {
        "id": "kUsA_m0VdqHP"
      },
      "outputs": [],
      "source": [
        "image_size = 32\n",
        "auto = tf.data.AUTOTUNE\n",
        "\n",
        "data_augmentation = keras.Sequential(\n",
        "    [layers.RandomCrop(image_size, image_size), layers.RandomFlip(\"horizontal\"),],\n",
        "    name=\"data_augmentation\",\n",
        ")\n",
        "\n",
        "\n",
        "def make_datasets(images, labels, is_train=False):\n",
        "    dataset = tf.data.Dataset.from_tensor_slices((images, labels))\n",
        "    if is_train:\n",
        "        dataset = dataset.shuffle(batch_size * 10)\n",
        "    dataset = dataset.batch(batch_size)\n",
        "    if is_train:\n",
        "        dataset = dataset.map(\n",
        "            lambda x, y: (data_augmentation(x), y), num_parallel_calls=auto\n",
        "        )\n",
        "    return dataset.prefetch(auto)\n",
        "\n",
        "\n",
        "train_dataset = make_datasets(new_x_train, new_y_train, is_train=True)\n",
        "val_dataset = make_datasets(x_val, y_val)\n",
        "test_dataset = make_datasets(x_test, y_test)"
      ]
    },
    {
      "cell_type": "markdown",
      "metadata": {
        "id": "kmA4f9ygdqHP"
      },
      "source": [
        "## ConvMixer utilities\n",
        "\n",
        "The following figure (taken from the original paper) depicts the ConvMixer model:\n",
        "\n",
        "![](https://i.imgur.com/yF8actg.png)\n",
        "\n",
        "ConvMixer is very similar to the MLP-Mixer, model with the following key\n",
        "differences:\n",
        "\n",
        "* Instead of using fully-connected layers, it uses standard convolution layers.\n",
        "* Instead of LayerNorm (which is typical for ViTs and MLP-Mixers), it uses BatchNorm.\n",
        "\n",
        "Two types of convolution layers are used in ConvMixer. **(1)**: Depthwise convolutions,\n",
        "for mixing spatial locations of the images, **(2)**: Pointwise convolutions (which follow\n",
        "the depthwise convolutions), for mixing channel-wise information across the patches.\n",
        "Another keypoint is the use of *larger kernel sizes* to allow a larger receptive field."
      ]
    },
    {
      "cell_type": "code",
      "execution_count": null,
      "metadata": {
        "id": "D_JDCKjqdqHQ"
      },
      "outputs": [],
      "source": [
        "\n",
        "def activation_block(x):\n",
        "    x = layers.Activation(\"gelu\")(x)\n",
        "    return layers.BatchNormalization()(x)\n",
        "\n",
        "\n",
        "def conv_stem(x, filters: int, patch_size: int):\n",
        "    x = layers.Conv2D(filters, kernel_size=patch_size, strides=patch_size)(x)\n",
        "    return activation_block(x)\n",
        "\n",
        "\n",
        "def conv_mixer_block(x, filters: int, kernel_size: int):\n",
        "    # Depthwise convolution.\n",
        "    x0 = x\n",
        "    x = layers.DepthwiseConv2D(kernel_size=kernel_size, padding=\"same\")(x)\n",
        "    x = layers.Add()([activation_block(x), x0])  # Residual.\n",
        "\n",
        "    # Pointwise convolution.\n",
        "    x = layers.Conv2D(filters, kernel_size=1)(x)\n",
        "    x = activation_block(x)\n",
        "\n",
        "    return x\n",
        "\n",
        "\n",
        "def get_conv_mixer_256_8(\n",
        "    image_size=32, filters=256, depth=8, kernel_size=5, patch_size=2, num_classes=10\n",
        "):\n",
        "    \"\"\"ConvMixer-256/8: https://openreview.net/pdf?id=TVHS5Y4dNvM.\n",
        "    The hyperparameter values are taken from the paper.\n",
        "    \"\"\"\n",
        "    inputs = keras.Input((image_size, image_size, 3))\n",
        "    x = layers.Rescaling(scale=1.0 / 255)(inputs)\n",
        "\n",
        "    # Extract patch embeddings.\n",
        "    x = conv_stem(x, filters, patch_size)\n",
        "\n",
        "    # ConvMixer blocks.\n",
        "    for _ in range(depth):\n",
        "        x = conv_mixer_block(x, filters, kernel_size)\n",
        "\n",
        "    # Classification block.\n",
        "    x = layers.GlobalAvgPool2D()(x)\n",
        "    outputs = layers.Dense(num_classes, activation=\"softmax\")(x)\n",
        "\n",
        "    return keras.Model(inputs, outputs)\n"
      ]
    },
    {
      "cell_type": "markdown",
      "metadata": {
        "id": "zcxIOKtrdqHQ"
      },
      "source": [
        "The model used in this experiment is termed as **ConvMixer-256/8** where 256 denotes the\n",
        "number of channels and 8 denotes the depth. The resulting model only has 0.8 million\n",
        "parameters."
      ]
    },
    {
      "cell_type": "markdown",
      "metadata": {
        "id": "_pJy-I3IdqHQ"
      },
      "source": [
        "## Model training and evaluation utility"
      ]
    },
    {
      "cell_type": "code",
      "execution_count": null,
      "metadata": {
        "id": "X2eWgGELdqHQ"
      },
      "outputs": [],
      "source": [
        "# Code reference:\n",
        "# https://keras.io/examples/vision/image_classification_with_vision_transformer/.\n",
        "\n",
        "\n",
        "def run_experiment(model):\n",
        "    optimizer = tfa.optimizers.AdamW(\n",
        "        learning_rate=learning_rate, weight_decay=weight_decay\n",
        "    )\n",
        "\n",
        "    model.compile(\n",
        "        optimizer=optimizer,\n",
        "        loss=\"sparse_categorical_crossentropy\",\n",
        "        metrics=[\"accuracy\"],\n",
        "    )\n",
        "\n",
        "    checkpoint_filepath = \"/tmp/checkpoint\"\n",
        "    checkpoint_callback = keras.callbacks.ModelCheckpoint(\n",
        "        checkpoint_filepath,\n",
        "        monitor=\"val_accuracy\",\n",
        "        save_best_only=True,\n",
        "        save_weights_only=True,\n",
        "    )\n",
        "\n",
        "    history = model.fit(\n",
        "        train_dataset,\n",
        "        validation_data=val_dataset,\n",
        "        epochs=num_epochs,\n",
        "        callbacks=[checkpoint_callback],\n",
        "    )\n",
        "\n",
        "    model.load_weights(checkpoint_filepath)\n",
        "    _, accuracy = model.evaluate(test_dataset)\n",
        "    print(f\"Test accuracy: {round(accuracy * 100, 2)}%\")\n",
        "\n",
        "    return history, model\n"
      ]
    },
    {
      "cell_type": "markdown",
      "metadata": {
        "id": "xBXb5ZOpdqHR"
      },
      "source": [
        "## Train and evaluate model"
      ]
    },
    {
      "cell_type": "code",
      "execution_count": null,
      "metadata": {
        "id": "_qOOuqk9dqHR",
        "outputId": "e4e85f72-2ee9-4aa6-b435-c8110743c8d7",
        "colab": {
          "base_uri": "https://localhost:8080/"
        }
      },
      "outputs": [
        {
          "output_type": "stream",
          "name": "stdout",
          "text": [
            "Epoch 1/150\n",
            "34/34 [==============================] - 21s 239ms/step - loss: 2.0750 - accuracy: 0.4069 - val_loss: 1.7176 - val_accuracy: 0.4938\n",
            "Epoch 2/150\n",
            "34/34 [==============================] - 7s 211ms/step - loss: 1.3815 - accuracy: 0.4954 - val_loss: 1.1741 - val_accuracy: 0.4938\n",
            "Epoch 3/150\n",
            "34/34 [==============================] - 7s 217ms/step - loss: 1.1027 - accuracy: 0.4956 - val_loss: 1.0754 - val_accuracy: 0.4938\n",
            "Epoch 4/150\n",
            "34/34 [==============================] - 7s 211ms/step - loss: 1.0632 - accuracy: 0.5005 - val_loss: 1.0763 - val_accuracy: 0.4938\n",
            "Epoch 5/150\n",
            "34/34 [==============================] - 7s 214ms/step - loss: 1.0497 - accuracy: 0.5007 - val_loss: 1.0635 - val_accuracy: 0.4938\n",
            "Epoch 6/150\n",
            "34/34 [==============================] - 7s 216ms/step - loss: 1.0372 - accuracy: 0.5016 - val_loss: 1.0798 - val_accuracy: 0.4938\n",
            "Epoch 7/150\n",
            "34/34 [==============================] - 7s 218ms/step - loss: 1.0295 - accuracy: 0.5023 - val_loss: 1.1067 - val_accuracy: 0.3562\n",
            "Epoch 8/150\n",
            "34/34 [==============================] - 7s 213ms/step - loss: 1.0237 - accuracy: 0.5044 - val_loss: 1.2202 - val_accuracy: 0.3562\n",
            "Epoch 9/150\n",
            "34/34 [==============================] - 7s 212ms/step - loss: 1.0117 - accuracy: 0.5183 - val_loss: 1.2308 - val_accuracy: 0.3562\n",
            "Epoch 10/150\n",
            "34/34 [==============================] - 7s 214ms/step - loss: 1.0067 - accuracy: 0.5111 - val_loss: 1.2077 - val_accuracy: 0.3562\n",
            "Epoch 11/150\n",
            "34/34 [==============================] - 7s 213ms/step - loss: 1.0037 - accuracy: 0.5171 - val_loss: 1.2500 - val_accuracy: 0.3562\n",
            "Epoch 12/150\n",
            "34/34 [==============================] - 7s 215ms/step - loss: 0.9904 - accuracy: 0.5271 - val_loss: 1.1696 - val_accuracy: 0.3562\n",
            "Epoch 13/150\n",
            "34/34 [==============================] - 7s 212ms/step - loss: 0.9822 - accuracy: 0.5287 - val_loss: 1.1838 - val_accuracy: 0.4938\n",
            "Epoch 14/150\n",
            "34/34 [==============================] - 7s 214ms/step - loss: 0.9588 - accuracy: 0.5431 - val_loss: 1.2692 - val_accuracy: 0.1708\n",
            "Epoch 15/150\n",
            "34/34 [==============================] - 7s 216ms/step - loss: 0.9567 - accuracy: 0.5370 - val_loss: 1.8600 - val_accuracy: 0.1417\n",
            "Epoch 16/150\n",
            "34/34 [==============================] - 7s 213ms/step - loss: 0.9164 - accuracy: 0.5620 - val_loss: 1.7804 - val_accuracy: 0.2042\n",
            "Epoch 17/150\n",
            "34/34 [==============================] - 7s 215ms/step - loss: 0.8950 - accuracy: 0.5924 - val_loss: 1.2036 - val_accuracy: 0.3854\n",
            "Epoch 18/150\n",
            "34/34 [==============================] - 7s 213ms/step - loss: 0.8915 - accuracy: 0.5843 - val_loss: 1.4565 - val_accuracy: 0.2583\n",
            "Epoch 19/150\n",
            "34/34 [==============================] - 7s 214ms/step - loss: 0.8404 - accuracy: 0.6208 - val_loss: 1.1917 - val_accuracy: 0.4104\n",
            "Epoch 20/150\n",
            "34/34 [==============================] - 7s 215ms/step - loss: 0.8125 - accuracy: 0.6363 - val_loss: 1.5400 - val_accuracy: 0.3750\n",
            "Epoch 21/150\n",
            "34/34 [==============================] - 7s 216ms/step - loss: 0.7937 - accuracy: 0.6375 - val_loss: 2.0551 - val_accuracy: 0.2333\n",
            "Epoch 22/150\n",
            "34/34 [==============================] - 7s 213ms/step - loss: 0.7857 - accuracy: 0.6458 - val_loss: 1.4025 - val_accuracy: 0.4062\n",
            "Epoch 23/150\n",
            "34/34 [==============================] - 7s 215ms/step - loss: 0.7348 - accuracy: 0.6778 - val_loss: 1.5069 - val_accuracy: 0.3792\n",
            "Epoch 24/150\n",
            "34/34 [==============================] - 7s 216ms/step - loss: 0.6791 - accuracy: 0.7005 - val_loss: 1.5340 - val_accuracy: 0.3979\n",
            "Epoch 25/150\n",
            "34/34 [==============================] - 7s 214ms/step - loss: 0.6799 - accuracy: 0.7113 - val_loss: 1.8418 - val_accuracy: 0.3688\n",
            "Epoch 26/150\n",
            "34/34 [==============================] - 7s 217ms/step - loss: 0.6360 - accuracy: 0.7354 - val_loss: 1.5688 - val_accuracy: 0.3667\n",
            "Epoch 27/150\n",
            "34/34 [==============================] - 7s 216ms/step - loss: 0.6027 - accuracy: 0.7493 - val_loss: 1.7148 - val_accuracy: 0.3500\n",
            "Epoch 28/150\n",
            "34/34 [==============================] - 7s 213ms/step - loss: 0.5928 - accuracy: 0.7463 - val_loss: 1.8899 - val_accuracy: 0.4333\n",
            "Epoch 29/150\n",
            "34/34 [==============================] - 7s 214ms/step - loss: 0.5565 - accuracy: 0.7644 - val_loss: 1.7239 - val_accuracy: 0.3646\n",
            "Epoch 30/150\n",
            "34/34 [==============================] - 7s 214ms/step - loss: 0.5189 - accuracy: 0.7829 - val_loss: 1.8606 - val_accuracy: 0.4250\n",
            "Epoch 31/150\n",
            "34/34 [==============================] - 7s 212ms/step - loss: 0.4990 - accuracy: 0.7931 - val_loss: 1.9634 - val_accuracy: 0.3979\n",
            "Epoch 32/150\n",
            "34/34 [==============================] - 7s 215ms/step - loss: 0.4518 - accuracy: 0.8190 - val_loss: 1.9016 - val_accuracy: 0.3542\n",
            "Epoch 33/150\n",
            "34/34 [==============================] - 7s 213ms/step - loss: 0.4103 - accuracy: 0.8326 - val_loss: 2.0971 - val_accuracy: 0.4167\n",
            "Epoch 34/150\n",
            "34/34 [==============================] - 7s 213ms/step - loss: 0.4200 - accuracy: 0.8264 - val_loss: 2.1478 - val_accuracy: 0.3500\n",
            "Epoch 35/150\n",
            "34/34 [==============================] - 7s 216ms/step - loss: 0.3986 - accuracy: 0.8426 - val_loss: 1.9977 - val_accuracy: 0.4021\n",
            "Epoch 36/150\n",
            "34/34 [==============================] - 7s 213ms/step - loss: 0.3902 - accuracy: 0.8491 - val_loss: 2.0030 - val_accuracy: 0.3792\n",
            "Epoch 37/150\n",
            "34/34 [==============================] - 7s 215ms/step - loss: 0.3547 - accuracy: 0.8597 - val_loss: 2.1164 - val_accuracy: 0.3562\n",
            "Epoch 38/150\n",
            "34/34 [==============================] - 7s 212ms/step - loss: 0.3370 - accuracy: 0.8662 - val_loss: 2.1047 - val_accuracy: 0.3625\n",
            "Epoch 39/150\n",
            "34/34 [==============================] - 7s 214ms/step - loss: 0.3359 - accuracy: 0.8611 - val_loss: 2.2588 - val_accuracy: 0.4021\n",
            "Epoch 40/150\n",
            "34/34 [==============================] - 7s 212ms/step - loss: 0.3007 - accuracy: 0.8838 - val_loss: 2.4320 - val_accuracy: 0.3812\n",
            "Epoch 41/150\n",
            "34/34 [==============================] - 7s 212ms/step - loss: 0.2935 - accuracy: 0.8856 - val_loss: 2.1162 - val_accuracy: 0.3792\n",
            "Epoch 42/150\n",
            "34/34 [==============================] - 7s 214ms/step - loss: 0.2755 - accuracy: 0.8988 - val_loss: 2.4267 - val_accuracy: 0.3812\n",
            "Epoch 43/150\n",
            "34/34 [==============================] - 7s 213ms/step - loss: 0.2448 - accuracy: 0.9127 - val_loss: 2.6093 - val_accuracy: 0.3458\n",
            "Epoch 44/150\n",
            "34/34 [==============================] - 7s 215ms/step - loss: 0.2447 - accuracy: 0.9132 - val_loss: 2.4591 - val_accuracy: 0.3750\n",
            "Epoch 45/150\n",
            "34/34 [==============================] - 7s 215ms/step - loss: 0.2477 - accuracy: 0.9076 - val_loss: 2.2525 - val_accuracy: 0.3542\n",
            "Epoch 46/150\n",
            "34/34 [==============================] - 7s 213ms/step - loss: 0.2174 - accuracy: 0.9192 - val_loss: 2.7642 - val_accuracy: 0.3958\n",
            "Epoch 47/150\n",
            "34/34 [==============================] - 7s 212ms/step - loss: 0.1964 - accuracy: 0.9310 - val_loss: 2.6052 - val_accuracy: 0.3917\n",
            "Epoch 48/150\n",
            "34/34 [==============================] - 7s 213ms/step - loss: 0.1766 - accuracy: 0.9449 - val_loss: 2.6800 - val_accuracy: 0.4021\n",
            "Epoch 49/150\n",
            "34/34 [==============================] - 7s 216ms/step - loss: 0.1787 - accuracy: 0.9389 - val_loss: 2.9522 - val_accuracy: 0.3854\n",
            "Epoch 50/150\n",
            "34/34 [==============================] - 7s 212ms/step - loss: 0.1771 - accuracy: 0.9421 - val_loss: 2.9357 - val_accuracy: 0.3917\n",
            "Epoch 51/150\n",
            "34/34 [==============================] - 7s 212ms/step - loss: 0.1659 - accuracy: 0.9442 - val_loss: 2.7409 - val_accuracy: 0.3708\n",
            "Epoch 52/150\n",
            "34/34 [==============================] - 7s 215ms/step - loss: 0.1391 - accuracy: 0.9556 - val_loss: 2.9738 - val_accuracy: 0.3729\n",
            "Epoch 53/150\n",
            "34/34 [==============================] - 7s 215ms/step - loss: 0.1306 - accuracy: 0.9553 - val_loss: 3.5647 - val_accuracy: 0.3896\n",
            "Epoch 54/150\n",
            "34/34 [==============================] - 7s 213ms/step - loss: 0.1622 - accuracy: 0.9454 - val_loss: 3.0800 - val_accuracy: 0.3854\n",
            "Epoch 55/150\n",
            "34/34 [==============================] - 7s 216ms/step - loss: 0.1542 - accuracy: 0.9505 - val_loss: 2.9860 - val_accuracy: 0.3854\n",
            "Epoch 56/150\n",
            "34/34 [==============================] - 7s 212ms/step - loss: 0.1349 - accuracy: 0.9542 - val_loss: 3.1883 - val_accuracy: 0.3854\n",
            "Epoch 57/150\n",
            "34/34 [==============================] - 7s 212ms/step - loss: 0.1358 - accuracy: 0.9604 - val_loss: 3.1074 - val_accuracy: 0.3896\n",
            "Epoch 58/150\n",
            "34/34 [==============================] - 7s 214ms/step - loss: 0.1313 - accuracy: 0.9569 - val_loss: 3.2838 - val_accuracy: 0.3562\n",
            "Epoch 59/150\n",
            "34/34 [==============================] - 7s 215ms/step - loss: 0.1225 - accuracy: 0.9625 - val_loss: 3.4310 - val_accuracy: 0.3542\n",
            "Epoch 60/150\n",
            "34/34 [==============================] - 7s 213ms/step - loss: 0.1059 - accuracy: 0.9653 - val_loss: 3.1844 - val_accuracy: 0.3771\n",
            "Epoch 61/150\n",
            "34/34 [==============================] - 7s 214ms/step - loss: 0.1161 - accuracy: 0.9641 - val_loss: 3.0376 - val_accuracy: 0.3938\n",
            "Epoch 62/150\n",
            "34/34 [==============================] - 7s 216ms/step - loss: 0.1462 - accuracy: 0.9537 - val_loss: 3.0232 - val_accuracy: 0.3187\n",
            "Epoch 63/150\n",
            "34/34 [==============================] - 7s 212ms/step - loss: 0.1283 - accuracy: 0.9567 - val_loss: 3.5689 - val_accuracy: 0.3771\n",
            "Epoch 64/150\n",
            "34/34 [==============================] - 7s 214ms/step - loss: 0.1264 - accuracy: 0.9609 - val_loss: 3.1599 - val_accuracy: 0.3771\n",
            "Epoch 65/150\n",
            "34/34 [==============================] - 7s 212ms/step - loss: 0.1397 - accuracy: 0.9569 - val_loss: 3.8799 - val_accuracy: 0.3604\n",
            "Epoch 66/150\n",
            "34/34 [==============================] - 7s 214ms/step - loss: 0.1329 - accuracy: 0.9574 - val_loss: 3.1270 - val_accuracy: 0.3562\n",
            "Epoch 67/150\n",
            "34/34 [==============================] - 7s 215ms/step - loss: 0.1223 - accuracy: 0.9639 - val_loss: 3.4924 - val_accuracy: 0.3625\n",
            "Epoch 68/150\n",
            "34/34 [==============================] - 7s 212ms/step - loss: 0.1190 - accuracy: 0.9623 - val_loss: 3.5838 - val_accuracy: 0.3458\n",
            "Epoch 69/150\n",
            "34/34 [==============================] - 7s 214ms/step - loss: 0.1225 - accuracy: 0.9639 - val_loss: 3.6436 - val_accuracy: 0.3771\n",
            "Epoch 70/150\n",
            "34/34 [==============================] - 7s 212ms/step - loss: 0.1317 - accuracy: 0.9563 - val_loss: 3.1029 - val_accuracy: 0.3500\n",
            "Epoch 71/150\n",
            "34/34 [==============================] - 7s 215ms/step - loss: 0.1215 - accuracy: 0.9623 - val_loss: 3.5208 - val_accuracy: 0.3438\n",
            "Epoch 72/150\n",
            "34/34 [==============================] - 7s 217ms/step - loss: 0.0897 - accuracy: 0.9734 - val_loss: 3.4626 - val_accuracy: 0.3979\n",
            "Epoch 73/150\n",
            "34/34 [==============================] - 7s 212ms/step - loss: 0.1035 - accuracy: 0.9708 - val_loss: 3.6874 - val_accuracy: 0.4146\n",
            "Epoch 74/150\n",
            "34/34 [==============================] - 7s 215ms/step - loss: 0.1195 - accuracy: 0.9613 - val_loss: 3.5040 - val_accuracy: 0.4000\n",
            "Epoch 75/150\n",
            "34/34 [==============================] - 7s 216ms/step - loss: 0.1198 - accuracy: 0.9637 - val_loss: 3.2351 - val_accuracy: 0.4104\n",
            "Epoch 76/150\n",
            "34/34 [==============================] - 7s 213ms/step - loss: 0.0910 - accuracy: 0.9745 - val_loss: 4.1066 - val_accuracy: 0.4000\n",
            "Epoch 77/150\n",
            "34/34 [==============================] - 7s 213ms/step - loss: 0.0750 - accuracy: 0.9801 - val_loss: 4.0304 - val_accuracy: 0.3708\n",
            "Epoch 78/150\n",
            "34/34 [==============================] - 7s 217ms/step - loss: 0.0741 - accuracy: 0.9778 - val_loss: 3.5031 - val_accuracy: 0.3938\n",
            "Epoch 79/150\n",
            "34/34 [==============================] - 7s 212ms/step - loss: 0.0784 - accuracy: 0.9810 - val_loss: 3.3289 - val_accuracy: 0.3771\n",
            "Epoch 80/150\n",
            "34/34 [==============================] - 7s 215ms/step - loss: 0.0766 - accuracy: 0.9792 - val_loss: 3.4112 - val_accuracy: 0.3333\n",
            "Epoch 81/150\n",
            "34/34 [==============================] - 7s 214ms/step - loss: 0.0784 - accuracy: 0.9778 - val_loss: 3.1498 - val_accuracy: 0.3625\n",
            "Epoch 82/150\n",
            "34/34 [==============================] - 7s 213ms/step - loss: 0.0782 - accuracy: 0.9819 - val_loss: 3.2190 - val_accuracy: 0.3688\n",
            "Epoch 83/150\n",
            "34/34 [==============================] - 7s 215ms/step - loss: 0.0612 - accuracy: 0.9856 - val_loss: 3.5026 - val_accuracy: 0.3938\n",
            "Epoch 84/150\n",
            "34/34 [==============================] - 7s 217ms/step - loss: 0.0641 - accuracy: 0.9815 - val_loss: 3.4425 - val_accuracy: 0.3875\n",
            "Epoch 85/150\n",
            "34/34 [==============================] - 7s 212ms/step - loss: 0.0704 - accuracy: 0.9796 - val_loss: 3.3829 - val_accuracy: 0.3583\n",
            "Epoch 86/150\n",
            "34/34 [==============================] - 7s 214ms/step - loss: 0.0756 - accuracy: 0.9803 - val_loss: 3.6558 - val_accuracy: 0.3646\n",
            "Epoch 87/150\n",
            "34/34 [==============================] - 7s 216ms/step - loss: 0.0764 - accuracy: 0.9801 - val_loss: 4.0096 - val_accuracy: 0.3229\n",
            "Epoch 88/150\n",
            "34/34 [==============================] - 7s 212ms/step - loss: 0.0961 - accuracy: 0.9766 - val_loss: 3.7993 - val_accuracy: 0.3917\n",
            "Epoch 89/150\n",
            "34/34 [==============================] - 7s 213ms/step - loss: 0.0962 - accuracy: 0.9762 - val_loss: 3.8611 - val_accuracy: 0.3875\n",
            "Epoch 90/150\n",
            "34/34 [==============================] - 7s 216ms/step - loss: 0.1027 - accuracy: 0.9701 - val_loss: 3.5343 - val_accuracy: 0.3979\n",
            "Epoch 91/150\n",
            "34/34 [==============================] - 7s 213ms/step - loss: 0.1243 - accuracy: 0.9620 - val_loss: 3.8404 - val_accuracy: 0.3417\n",
            "Epoch 92/150\n",
            "34/34 [==============================] - 7s 215ms/step - loss: 0.1367 - accuracy: 0.9581 - val_loss: 4.2729 - val_accuracy: 0.2979\n",
            "Epoch 93/150\n",
            "34/34 [==============================] - 7s 212ms/step - loss: 0.1335 - accuracy: 0.9593 - val_loss: 3.8005 - val_accuracy: 0.3521\n",
            "Epoch 94/150\n",
            "34/34 [==============================] - 7s 212ms/step - loss: 0.1249 - accuracy: 0.9611 - val_loss: 3.7181 - val_accuracy: 0.3771\n",
            "Epoch 95/150\n",
            "34/34 [==============================] - 7s 213ms/step - loss: 0.1396 - accuracy: 0.9558 - val_loss: 3.7027 - val_accuracy: 0.3750\n",
            "Epoch 96/150\n",
            "34/34 [==============================] - 7s 214ms/step - loss: 0.1281 - accuracy: 0.9600 - val_loss: 3.4509 - val_accuracy: 0.3583\n",
            "Epoch 97/150\n",
            "34/34 [==============================] - 7s 212ms/step - loss: 0.1008 - accuracy: 0.9646 - val_loss: 3.8095 - val_accuracy: 0.3750\n",
            "Epoch 98/150\n",
            "34/34 [==============================] - 7s 213ms/step - loss: 0.1001 - accuracy: 0.9662 - val_loss: 3.6164 - val_accuracy: 0.3875\n",
            "Epoch 99/150\n",
            "34/34 [==============================] - 7s 214ms/step - loss: 0.1090 - accuracy: 0.9678 - val_loss: 3.4469 - val_accuracy: 0.3833\n",
            "Epoch 100/150\n",
            "34/34 [==============================] - 7s 216ms/step - loss: 0.0840 - accuracy: 0.9745 - val_loss: 3.3799 - val_accuracy: 0.3812\n",
            "Epoch 101/150\n",
            "34/34 [==============================] - 7s 212ms/step - loss: 0.0690 - accuracy: 0.9810 - val_loss: 3.6869 - val_accuracy: 0.3938\n",
            "Epoch 102/150\n",
            "34/34 [==============================] - 7s 213ms/step - loss: 0.0784 - accuracy: 0.9794 - val_loss: 3.9338 - val_accuracy: 0.3896\n",
            "Epoch 103/150\n",
            "34/34 [==============================] - 7s 214ms/step - loss: 0.0653 - accuracy: 0.9831 - val_loss: 3.8654 - val_accuracy: 0.3583\n",
            "Epoch 104/150\n",
            "34/34 [==============================] - 7s 216ms/step - loss: 0.0626 - accuracy: 0.9840 - val_loss: 3.7220 - val_accuracy: 0.3542\n",
            "Epoch 105/150\n",
            "34/34 [==============================] - 7s 212ms/step - loss: 0.0862 - accuracy: 0.9806 - val_loss: 3.5656 - val_accuracy: 0.3854\n",
            "Epoch 106/150\n",
            "34/34 [==============================] - 7s 215ms/step - loss: 0.0601 - accuracy: 0.9861 - val_loss: 3.8115 - val_accuracy: 0.3646\n",
            "Epoch 107/150\n",
            "34/34 [==============================] - 7s 214ms/step - loss: 0.0553 - accuracy: 0.9870 - val_loss: 3.9099 - val_accuracy: 0.3604\n",
            "Epoch 108/150\n",
            "34/34 [==============================] - 7s 213ms/step - loss: 0.0570 - accuracy: 0.9866 - val_loss: 3.7928 - val_accuracy: 0.3438\n",
            "Epoch 109/150\n",
            "34/34 [==============================] - 7s 215ms/step - loss: 0.0614 - accuracy: 0.9868 - val_loss: 3.8171 - val_accuracy: 0.3708\n",
            "Epoch 110/150\n",
            "34/34 [==============================] - 7s 212ms/step - loss: 0.0662 - accuracy: 0.9845 - val_loss: 3.7371 - val_accuracy: 0.3729\n",
            "Epoch 111/150\n",
            "34/34 [==============================] - 7s 217ms/step - loss: 0.0432 - accuracy: 0.9907 - val_loss: 3.7078 - val_accuracy: 0.3708\n",
            "Epoch 112/150\n",
            "34/34 [==============================] - 7s 216ms/step - loss: 0.0534 - accuracy: 0.9875 - val_loss: 3.5921 - val_accuracy: 0.3646\n",
            "Epoch 113/150\n",
            "34/34 [==============================] - 7s 214ms/step - loss: 0.0468 - accuracy: 0.9889 - val_loss: 3.5373 - val_accuracy: 0.3729\n",
            "Epoch 114/150\n",
            "34/34 [==============================] - 7s 214ms/step - loss: 0.0442 - accuracy: 0.9914 - val_loss: 3.4403 - val_accuracy: 0.3708\n",
            "Epoch 115/150\n",
            "34/34 [==============================] - 7s 216ms/step - loss: 0.0579 - accuracy: 0.9868 - val_loss: 3.3826 - val_accuracy: 0.3688\n",
            "Epoch 116/150\n",
            "34/34 [==============================] - 7s 214ms/step - loss: 0.0542 - accuracy: 0.9882 - val_loss: 3.9287 - val_accuracy: 0.3625\n",
            "Epoch 117/150\n",
            "34/34 [==============================] - 7s 217ms/step - loss: 0.0610 - accuracy: 0.9854 - val_loss: 3.4188 - val_accuracy: 0.3812\n",
            "Epoch 118/150\n",
            "34/34 [==============================] - 7s 212ms/step - loss: 0.0648 - accuracy: 0.9850 - val_loss: 3.2152 - val_accuracy: 0.3875\n",
            "Epoch 119/150\n",
            "34/34 [==============================] - 7s 212ms/step - loss: 0.0725 - accuracy: 0.9826 - val_loss: 3.4570 - val_accuracy: 0.3729\n",
            "Epoch 120/150\n",
            "34/34 [==============================] - 7s 214ms/step - loss: 0.0875 - accuracy: 0.9780 - val_loss: 3.1865 - val_accuracy: 0.3750\n",
            "Epoch 121/150\n",
            "34/34 [==============================] - 7s 213ms/step - loss: 0.1083 - accuracy: 0.9734 - val_loss: 4.3559 - val_accuracy: 0.3833\n",
            "Epoch 122/150\n",
            "34/34 [==============================] - 7s 213ms/step - loss: 0.1069 - accuracy: 0.9706 - val_loss: 3.7018 - val_accuracy: 0.3604\n",
            "Epoch 123/150\n",
            "34/34 [==============================] - 7s 213ms/step - loss: 0.1244 - accuracy: 0.9625 - val_loss: 3.9562 - val_accuracy: 0.4000\n",
            "Epoch 124/150\n",
            "34/34 [==============================] - 7s 212ms/step - loss: 0.1452 - accuracy: 0.9609 - val_loss: 3.5234 - val_accuracy: 0.3854\n",
            "Epoch 125/150\n",
            "34/34 [==============================] - 7s 212ms/step - loss: 0.1444 - accuracy: 0.9569 - val_loss: 3.6937 - val_accuracy: 0.3604\n",
            "Epoch 126/150\n",
            "34/34 [==============================] - 7s 215ms/step - loss: 0.1323 - accuracy: 0.9604 - val_loss: 3.2318 - val_accuracy: 0.3854\n",
            "Epoch 127/150\n",
            "34/34 [==============================] - 7s 214ms/step - loss: 0.1444 - accuracy: 0.9558 - val_loss: 3.2607 - val_accuracy: 0.3771\n",
            "Epoch 128/150\n",
            "34/34 [==============================] - 7s 215ms/step - loss: 0.1001 - accuracy: 0.9694 - val_loss: 3.4166 - val_accuracy: 0.3792\n",
            "Epoch 129/150\n",
            "34/34 [==============================] - 7s 213ms/step - loss: 0.0793 - accuracy: 0.9780 - val_loss: 3.6113 - val_accuracy: 0.4271\n",
            "Epoch 130/150\n",
            "34/34 [==============================] - 7s 214ms/step - loss: 0.0740 - accuracy: 0.9780 - val_loss: 3.9080 - val_accuracy: 0.3771\n",
            "Epoch 131/150\n",
            "34/34 [==============================] - 7s 214ms/step - loss: 0.0583 - accuracy: 0.9845 - val_loss: 3.6814 - val_accuracy: 0.3688\n",
            "Epoch 132/150\n",
            "34/34 [==============================] - 7s 216ms/step - loss: 0.0658 - accuracy: 0.9815 - val_loss: 3.9881 - val_accuracy: 0.3479\n",
            "Epoch 133/150\n",
            "34/34 [==============================] - 7s 213ms/step - loss: 0.0765 - accuracy: 0.9815 - val_loss: 3.4517 - val_accuracy: 0.3562\n",
            "Epoch 134/150\n",
            "34/34 [==============================] - 7s 215ms/step - loss: 0.0581 - accuracy: 0.9859 - val_loss: 3.6298 - val_accuracy: 0.3604\n",
            "Epoch 135/150\n",
            "34/34 [==============================] - 7s 213ms/step - loss: 0.0478 - accuracy: 0.9884 - val_loss: 3.8589 - val_accuracy: 0.3688\n",
            "Epoch 136/150\n",
            "34/34 [==============================] - 7s 212ms/step - loss: 0.0411 - accuracy: 0.9907 - val_loss: 4.2075 - val_accuracy: 0.3187\n",
            "Epoch 137/150\n",
            "34/34 [==============================] - 7s 212ms/step - loss: 0.0473 - accuracy: 0.9891 - val_loss: 4.4452 - val_accuracy: 0.3229\n",
            "Epoch 138/150\n",
            "34/34 [==============================] - 7s 216ms/step - loss: 0.0378 - accuracy: 0.9917 - val_loss: 4.5306 - val_accuracy: 0.3417\n",
            "Epoch 139/150\n",
            "34/34 [==============================] - 7s 213ms/step - loss: 0.0485 - accuracy: 0.9898 - val_loss: 4.2114 - val_accuracy: 0.3521\n",
            "Epoch 140/150\n",
            "34/34 [==============================] - 7s 215ms/step - loss: 0.0581 - accuracy: 0.9880 - val_loss: 4.0343 - val_accuracy: 0.3333\n",
            "Epoch 141/150\n",
            "34/34 [==============================] - 7s 216ms/step - loss: 0.0458 - accuracy: 0.9900 - val_loss: 4.1020 - val_accuracy: 0.3354\n",
            "Epoch 142/150\n",
            "34/34 [==============================] - 7s 215ms/step - loss: 0.0740 - accuracy: 0.9833 - val_loss: 3.5758 - val_accuracy: 0.3438\n",
            "Epoch 143/150\n",
            "34/34 [==============================] - 7s 214ms/step - loss: 0.0752 - accuracy: 0.9845 - val_loss: 3.8437 - val_accuracy: 0.3708\n",
            "Epoch 144/150\n",
            "34/34 [==============================] - 7s 215ms/step - loss: 0.0691 - accuracy: 0.9829 - val_loss: 4.0411 - val_accuracy: 0.3604\n",
            "Epoch 145/150\n",
            "34/34 [==============================] - 7s 212ms/step - loss: 0.0757 - accuracy: 0.9803 - val_loss: 4.0839 - val_accuracy: 0.3729\n",
            "Epoch 146/150\n",
            "34/34 [==============================] - 7s 214ms/step - loss: 0.0839 - accuracy: 0.9782 - val_loss: 4.1507 - val_accuracy: 0.3604\n",
            "Epoch 147/150\n",
            "34/34 [==============================] - 7s 217ms/step - loss: 0.0902 - accuracy: 0.9803 - val_loss: 3.9316 - val_accuracy: 0.3729\n",
            "Epoch 148/150\n",
            "34/34 [==============================] - 7s 213ms/step - loss: 0.0778 - accuracy: 0.9775 - val_loss: 3.9293 - val_accuracy: 0.3479\n",
            "Epoch 149/150\n",
            "34/34 [==============================] - 7s 215ms/step - loss: 0.0813 - accuracy: 0.9743 - val_loss: 3.4863 - val_accuracy: 0.4062\n",
            "Epoch 150/150\n",
            "34/34 [==============================] - 7s 213ms/step - loss: 0.1074 - accuracy: 0.9718 - val_loss: 4.0269 - val_accuracy: 0.3458\n",
            "13/13 [==============================] - 1s 63ms/step - loss: 1.7150 - accuracy: 0.5000\n",
            "Test accuracy: 50.0%\n"
          ]
        }
      ],
      "source": [
        "conv_mixer_model = get_conv_mixer_256_8()\n",
        "history, conv_mixer_model = run_experiment(conv_mixer_model)"
      ]
    },
    {
      "cell_type": "markdown",
      "metadata": {
        "id": "FucNfgVxdqHR"
      },
      "source": [
        "The gap in training and validation performance can be mitigated by using additional\n",
        "regularization techniques. Nevertheless, being able to get to ~83% accuracy within 10\n",
        "epochs with 0.8 million parameters is a strong result."
      ]
    },
    {
      "cell_type": "markdown",
      "metadata": {
        "id": "1AOa-gkWdqHR"
      },
      "source": [
        "## Visualizing the internals of ConvMixer\n",
        "\n",
        "We can visualize the patch embeddings and the learned convolution filters. Recall\n",
        "that each patch embedding and intermediate feature map have the same number of channels\n",
        "(256 in this case). This will make our visualization utility easier to implement."
      ]
    },
    {
      "cell_type": "code",
      "execution_count": null,
      "metadata": {
        "id": "TiUq8V1LdqHS",
        "outputId": "ceeb2976-db2a-4da4-9064-e0cc175ea5f4",
        "colab": {
          "base_uri": "https://localhost:8080/",
          "height": 652
        }
      },
      "outputs": [
        {
          "output_type": "display_data",
          "data": {
            "text/plain": [
              "<Figure size 800x800 with 256 Axes>"
            ],
            "image/png": "[encoded data removed]"
          },
          "metadata": {}
        }
      ],
      "source": [
        "# Code reference: https://bit.ly/3awIRbP.\n",
        "\n",
        "\n",
        "def visualization_plot(weights, idx=1):\n",
        "    # First, apply min-max normalization to the\n",
        "    # given weights to avoid isotrophic scaling.\n",
        "    p_min, p_max = weights.min(), weights.max()\n",
        "    weights = (weights - p_min) / (p_max - p_min)\n",
        "\n",
        "    # Visualize all the filters.\n",
        "    num_filters = 256\n",
        "    plt.figure(figsize=(8, 8))\n",
        "\n",
        "    for i in range(num_filters):\n",
        "        current_weight = weights[:, :, :, i]\n",
        "        if current_weight.shape[-1] == 1:\n",
        "            current_weight = current_weight.squeeze()\n",
        "        ax = plt.subplot(16, 16, idx)\n",
        "        ax.set_xticks([])\n",
        "        ax.set_yticks([])\n",
        "        plt.imshow(current_weight)\n",
        "        idx += 1\n",
        "\n",
        "\n",
        "# We first visualize the learned patch embeddings.\n",
        "patch_embeddings = conv_mixer_model.layers[2].get_weights()[0]\n",
        "visualization_plot(patch_embeddings)"
      ]
    },
    {
      "cell_type": "markdown",
      "metadata": {
        "id": "qm9PCRcHdqHS"
      },
      "source": [
        "Even though we did not train the network to convergence, we can notice that different\n",
        "patches show different patterns. Some share similarity with others while some are very\n",
        "different. These visualizations are more salient with larger image sizes.\n",
        "\n",
        "Similarly, we can visualize the raw convolution kernels. This can help us understand\n",
        "the patterns to which a given kernel is receptive."
      ]
    },
    {
      "cell_type": "code",
      "execution_count": null,
      "metadata": {
        "id": "t7XHk60idqHS",
        "outputId": "f150b5a9-962a-4a9b-8566-59e8a924a0bc",
        "colab": {
          "base_uri": "https://localhost:8080/",
          "height": 791
        }
      },
      "outputs": [
        {
          "output_type": "stream",
          "name": "stdout",
          "text": [
            "5 <keras.layers.convolutional.depthwise_conv2d.DepthwiseConv2D object at 0x7fe62ae55690>\n",
            "12 <keras.layers.convolutional.depthwise_conv2d.DepthwiseConv2D object at 0x7fe6a01b3190>\n",
            "19 <keras.layers.convolutional.depthwise_conv2d.DepthwiseConv2D object at 0x7fe6a01fb880>\n",
            "26 <keras.layers.convolutional.depthwise_conv2d.DepthwiseConv2D object at 0x7fe6a02313f0>\n",
            "33 <keras.layers.convolutional.depthwise_conv2d.DepthwiseConv2D object at 0x7fe62add03a0>\n",
            "40 <keras.layers.convolutional.depthwise_conv2d.DepthwiseConv2D object at 0x7fe62ae0f5e0>\n",
            "47 <keras.layers.convolutional.depthwise_conv2d.DepthwiseConv2D object at 0x7fe62ae0cc70>\n",
            "54 <keras.layers.convolutional.depthwise_conv2d.DepthwiseConv2D object at 0x7fe62ae1ed10>\n"
          ]
        },
        {
          "output_type": "display_data",
          "data": {
            "text/plain": [
              "<Figure size 800x800 with 256 Axes>"
            ],
            "image/png": "[encoded data removed]"
          },
          "metadata": {}
        }
      ],
      "source": [
        "# First, print the indices of the convolution layers that are not\n",
        "# pointwise convolutions.\n",
        "for i, layer in enumerate(conv_mixer_model.layers):\n",
        "    if isinstance(layer, layers.DepthwiseConv2D):\n",
        "        if layer.get_config()[\"kernel_size\"] == (5, 5):\n",
        "            print(i, layer)\n",
        "\n",
        "idx = 26  # Taking a kernel from the middle of the network.\n",
        "\n",
        "kernel = conv_mixer_model.layers[idx].get_weights()[0]\n",
        "kernel = np.expand_dims(kernel.squeeze(), axis=2)\n",
        "visualization_plot(kernel)"
      ]
    },
    {
      "cell_type": "markdown",
      "metadata": {
        "id": "nakG1z9xdqHS"
      },
      "source": [
        "We see that different filters in the kernel have different locality spans, and this pattern\n",
        "is likely to evolve with more training."
      ]
    },
    {
      "cell_type": "markdown",
      "metadata": {
        "id": "qt6ykVLKdqHS"
      },
      "source": [
        "## Final notes\n",
        "\n",
        "There's been a recent trend on fusing convolutions with other data-agnostic operations\n",
        "like self-attention. Following works are along this line of research:\n",
        "\n",
        "* ConViT ([d'Ascoli et al.](https://arxiv.org/abs/2103.10697))\n",
        "* CCT ([Hassani et al.](https://arxiv.org/abs/2104.05704))\n",
        "* CoAtNet ([Dai et al.](https://arxiv.org/abs/2106.04803))\n",
        "\n",
        "| Trained Model | Demo |\n",
        "| :--: | :--: |\n",
        "| [![Generic badge](https://img.shields.io/badge/🤗%20Model-ConvMixer-black.svg)](https://huggingface.co/keras-io/conv_Mixer) | [![Generic badge](https://img.shields.io/badge/🤗%20Spaces-ConvMixer-black.svg)](https://huggingface.co/spaces/keras-io/conv_Mixer) |"
      ]
    }
  ],
  "metadata": {
    "accelerator": "GPU",
    "colab": {
      "provenance": [],
      "include_colab_link": true
    },
    "kernelspec": {
      "display_name": "Python 3",
      "language": "python",
      "name": "python3"
    },
    "language_info": {
      "codemirror_mode": {
        "name": "ipython",
        "version": 3
      },
      "file_extension": ".py",
      "mimetype": "text/x-python",
      "name": "python",
      "nbconvert_exporter": "python",
      "pygments_lexer": "ipython3",
      "version": "3.7.0"
    }
  },
  "nbformat": 4,
  "nbformat_minor": 0
}