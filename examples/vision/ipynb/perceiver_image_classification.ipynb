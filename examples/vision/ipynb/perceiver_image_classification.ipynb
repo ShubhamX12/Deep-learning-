{
  "cells": [
    {
      "cell_type": "markdown",
      "metadata": {
        "id": "JrCzHcHMmV9F"
      },
      "source": [
        "# Image classification with Perceiver\n",
        "\n",
        "**Author:** [Khalid Salama](https://www.linkedin.com/in/khalid-salama-24403144/)<br>\n",
        "**Date created:** 2021/04/30<br>\n",
        "**Last modified:** 2021/01/30<br>\n",
        "**Description:** Implementing the Perceiver model for image classification."
      ]
    },
    {
      "cell_type": "markdown",
      "metadata": {
        "id": "ousszWunmV9Q"
      },
      "source": [
        "## Introduction\n",
        "\n",
        "This example implements the\n",
        "[Perceiver: General Perception with Iterative Attention](https://arxiv.org/abs/2103.03206)\n",
        "model by Andrew Jaegle et al. for image classification,\n",
        "and demonstrates it on the CIFAR-100 dataset.\n",
        "\n",
        "The Perceiver model leverages an asymmetric attention mechanism to iteratively\n",
        "distill inputs into a tight latent bottleneck,\n",
        "allowing it to scale to handle very large inputs.\n",
        "\n",
        "In other words: let's assume that your input data array (e.g. image) has `M` elements (i.e. patches), where `M` is large.\n",
        "In a standard Transformer model, a self-attention operation is performed for the `M` elements.\n",
        "The complexity of this operation is `O(M^2)`.\n",
        "However, the Perceiver model creates a latent array of size `N` elements, where `N << M`,\n",
        "and performs two operations iteratively:\n",
        "\n",
        "1. Cross-attention Transformer between the latent array and the data array - The complexity of this operation is `O(M.N)`.\n",
        "2. Self-attention Transformer on the latent array -  The complexity of this operation is `O(N^2)`.\n",
        "\n",
        "This example requires TensorFlow 2.4 or higher, as well as\n",
        "[TensorFlow Addons](https://www.tensorflow.org/addons/overview),\n",
        "which can be installed using the following command:\n",
        "\n",
        "```python\n",
        "pip install -U tensorflow-addons\n",
        "```"
      ]
    },
    {
      "cell_type": "code",
      "source": [
        "pip install -U tensorflow-addons"
      ],
      "metadata": {
        "colab": {
          "base_uri": "https://localhost:8080/"
        },
        "id": "l1RHKXzwmYp3",
        "outputId": "3f72c883-d4f7-4220-d48f-6d4b852877c5"
      },
      "execution_count": 29,
      "outputs": [
        {
          "output_type": "stream",
          "name": "stdout",
          "text": [
            "Looking in indexes: https://pypi.org/simple, https://us-python.pkg.dev/colab-wheels/public/simple/\n",
            "Requirement already satisfied: tensorflow-addons in /usr/local/lib/python3.10/dist-packages (0.20.0)\n",
            "Requirement already satisfied: packaging in /usr/local/lib/python3.10/dist-packages (from tensorflow-addons) (23.1)\n",
            "Requirement already satisfied: typeguard<3.0.0,>=2.7 in /usr/local/lib/python3.10/dist-packages (from tensorflow-addons) (2.13.3)\n"
          ]
        }
      ]
    },
    {
      "cell_type": "markdown",
      "metadata": {
        "id": "TR0qfVJUmV9Y"
      },
      "source": [
        "## Setup"
      ]
    },
    {
      "cell_type": "code",
      "execution_count": 30,
      "metadata": {
        "id": "B1vKCF1KmV9c"
      },
      "outputs": [],
      "source": [
        "import numpy as np\n",
        "import tensorflow as tf\n",
        "from tensorflow import keras\n",
        "from tensorflow.keras import layers\n",
        "import tensorflow_addons as tfa\n",
        "import tensorflow as tf\n",
        "import matplotlib.pyplot as plt\n",
        "import numpy as np\n",
        "import os\n",
        "import tensorflow as tf\n",
        "from tensorflow import keras\n",
        "from keras import layers\n",
        "import matplotlib.image as img\n",
        "%matplotlib inline"
      ]
    },
    {
      "cell_type": "code",
      "source": [
        "import tensorflow as tf\n",
        "tf.__version__"
      ],
      "metadata": {
        "colab": {
          "base_uri": "https://localhost:8080/",
          "height": 35
        },
        "id": "OcX0wrPpmqz7",
        "outputId": "995b2dbc-5ef1-4020-82cd-5985f23abd0f"
      },
      "execution_count": 31,
      "outputs": [
        {
          "output_type": "execute_result",
          "data": {
            "text/plain": [
              "'2.12.0'"
            ],
            "application/vnd.google.colaboratory.intrinsic+json": {
              "type": "string"
            }
          },
          "metadata": {},
          "execution_count": 31
        }
      ]
    },
    {
      "cell_type": "code",
      "source": [
        "from google.colab import drive\n",
        "drive.mount('/content/gdrive')"
      ],
      "metadata": {
        "colab": {
          "base_uri": "https://localhost:8080/"
        },
        "id": "HvHJlKHLmwez",
        "outputId": "23ffbf93-dac6-4f43-da37-aca181a1ecf6"
      },
      "execution_count": 32,
      "outputs": [
        {
          "output_type": "stream",
          "name": "stdout",
          "text": [
            "Drive already mounted at /content/gdrive; to attempt to forcibly remount, call drive.mount(\"/content/gdrive\", force_remount=True).\n"
          ]
        }
      ]
    },
    {
      "cell_type": "code",
      "source": [
        "!pip install split-folders\n",
        "import splitfolders\n",
        "splitfolders.ratio('/content/gdrive/MyDrive/PreprocessSeg/', output=\"output\", ratio=(.75,0,0.25)) "
      ],
      "metadata": {
        "colab": {
          "base_uri": "https://localhost:8080/"
        },
        "id": "1Nb0YPVnm4n4",
        "outputId": "4cde83d5-6c45-4dbb-ad73-bb7db978f032"
      },
      "execution_count": 33,
      "outputs": [
        {
          "output_type": "stream",
          "name": "stdout",
          "text": [
            "Looking in indexes: https://pypi.org/simple, https://us-python.pkg.dev/colab-wheels/public/simple/\n",
            "Requirement already satisfied: split-folders in /usr/local/lib/python3.10/dist-packages (0.5.1)\n"
          ]
        },
        {
          "output_type": "stream",
          "name": "stderr",
          "text": [
            "Copying files: 1921 files [00:04, 423.58 files/s]\n"
          ]
        }
      ]
    },
    {
      "cell_type": "code",
      "source": [
        "IMG_HEIGHT = 32\n",
        "IMG_WIDTH = 32\n",
        "train_ds = tf.keras.preprocessing.image_dataset_from_directory(\n",
        "\"./output/train\",\n",
        "seed=123,\n",
        "image_size=(IMG_HEIGHT, IMG_WIDTH),\n",
        "batch_size=64\n",
        ")"
      ],
      "metadata": {
        "colab": {
          "base_uri": "https://localhost:8080/"
        },
        "id": "l-z6OMX8nX2w",
        "outputId": "1f998d4d-4d8b-477f-d0f2-b901294eb941"
      },
      "execution_count": 34,
      "outputs": [
        {
          "output_type": "stream",
          "name": "stdout",
          "text": [
            "Found 1439 files belonging to 4 classes.\n"
          ]
        }
      ]
    },
    {
      "cell_type": "code",
      "source": [
        "train_ds_images = [images for images, _ in train_ds.unbatch()]\n",
        "train_ds_labels = [labels for _, labels in train_ds.unbatch()]\n",
        "train_ds_images = np.array(train_ds_images)\n",
        "train_ds_labels = np.array(train_ds_labels)"
      ],
      "metadata": {
        "id": "oj0ZB7AJncKu"
      },
      "execution_count": 35,
      "outputs": []
    },
    {
      "cell_type": "code",
      "source": [
        "test_ds = tf.keras.preprocessing.image_dataset_from_directory(\n",
        "\"./output/test\",\n",
        "seed=123,\n",
        "image_size=(IMG_HEIGHT, IMG_WIDTH),\n",
        "batch_size=16\n",
        ")"
      ],
      "metadata": {
        "colab": {
          "base_uri": "https://localhost:8080/"
        },
        "id": "la3q9eQZnmzF",
        "outputId": "e09c1ea7-c8a4-45be-d15d-9d216e2f25d7"
      },
      "execution_count": 36,
      "outputs": [
        {
          "output_type": "stream",
          "name": "stdout",
          "text": [
            "Found 482 files belonging to 4 classes.\n"
          ]
        }
      ]
    },
    {
      "cell_type": "code",
      "source": [
        "test_ds_images = [images for images, _ in test_ds.unbatch()]\n",
        "test_ds_labels = [labels for _, labels in test_ds.unbatch()]\n",
        "test_ds_images = np.array(test_ds_images)\n",
        "test_ds_labels = np.array(test_ds_labels)"
      ],
      "metadata": {
        "id": "z6-yNvBInw8N"
      },
      "execution_count": 37,
      "outputs": []
    },
    {
      "cell_type": "code",
      "source": [
        "class_names = train_ds.class_names\n",
        "print(test_ds_images.shape,test_ds_labels.shape)\n",
        "print(class_names)\n",
        "num_classes=4"
      ],
      "metadata": {
        "colab": {
          "base_uri": "https://localhost:8080/"
        },
        "id": "ktu2D7UXn19G",
        "outputId": "35474e1e-a073-4130-bf20-8e4ebf1d1960"
      },
      "execution_count": 38,
      "outputs": [
        {
          "output_type": "stream",
          "name": "stdout",
          "text": [
            "(482, 32, 32, 3) (482,)\n",
            "['Mild_Demented', 'Moderate_Demented', 'Non_Demented', 'Very_Mild_Demented']\n"
          ]
        }
      ]
    },
    {
      "cell_type": "markdown",
      "metadata": {
        "id": "s_yKFN_HmV9g"
      },
      "source": [
        "## Prepare the data"
      ]
    },
    {
      "cell_type": "code",
      "execution_count": 39,
      "metadata": {
        "id": "Hn9yPR0emV9h"
      },
      "outputs": [],
      "source": [
        "x_train=train_ds_images\n",
        "y_train=train_ds_labels\n",
        "x_test=test_ds_images\n",
        "y_test=test_ds_labels"
      ]
    },
    {
      "cell_type": "markdown",
      "metadata": {
        "id": "lyQ9TJckmV9k"
      },
      "source": [
        "## Configure the hyperparameters"
      ]
    },
    {
      "cell_type": "code",
      "execution_count": 40,
      "metadata": {
        "colab": {
          "base_uri": "https://localhost:8080/"
        },
        "id": "aReZASI8mV9o",
        "outputId": "8e72d767-9735-41bd-fa92-438d9a4fc60e"
      },
      "outputs": [
        {
          "output_type": "stream",
          "name": "stdout",
          "text": [
            "Image size: 64 X 64 = 4096\n",
            "Patch size: 2 X 2 = 4 \n",
            "Patches per image: 1024\n",
            "Elements per patch (3 channels): 12\n",
            "Latent array shape: 256 X 256\n",
            "Data array shape: 1024 X 256\n"
          ]
        }
      ],
      "source": [
        "learning_rate = 0.001\n",
        "weight_decay = 0.0001\n",
        "batch_size = 64\n",
        "num_epochs = 50\n",
        "dropout_rate = 0.2\n",
        "image_size = 64  # We'll resize input images to this size.\n",
        "patch_size = 2  # Size of the patches to be extract from the input images.\n",
        "num_patches = (image_size // patch_size) ** 2  # Size of the data array.\n",
        "latent_dim = 256  # Size of the latent array.\n",
        "projection_dim = 256  # Embedding size of each element in the data and latent arrays.\n",
        "num_heads = 8  # Number of Transformer heads.\n",
        "ffn_units = [\n",
        "    projection_dim,\n",
        "    projection_dim,\n",
        "]  # Size of the Transformer Feedforward network.\n",
        "num_transformer_blocks = 4\n",
        "num_iterations = 2  # Repetitions of the cross-attention and Transformer modules.\n",
        "classifier_units = [\n",
        "    projection_dim,\n",
        "    num_classes,\n",
        "]  # Size of the Feedforward network of the final classifier.\n",
        "\n",
        "print(f\"Image size: {image_size} X {image_size} = {image_size ** 2}\")\n",
        "print(f\"Patch size: {patch_size} X {patch_size} = {patch_size ** 2} \")\n",
        "print(f\"Patches per image: {num_patches}\")\n",
        "print(f\"Elements per patch (3 channels): {(patch_size ** 2) * 3}\")\n",
        "print(f\"Latent array shape: {latent_dim} X {projection_dim}\")\n",
        "print(f\"Data array shape: {num_patches} X {projection_dim}\")"
      ]
    },
    {
      "cell_type": "markdown",
      "metadata": {
        "id": "f8i6CWaOmV9s"
      },
      "source": [
        "Note that, in order to use each pixel as an individual input in the data array,\n",
        "set `patch_size` to 1."
      ]
    },
    {
      "cell_type": "markdown",
      "metadata": {
        "id": "3QLW3CrEmV9w"
      },
      "source": [
        "## Use data augmentation"
      ]
    },
    {
      "cell_type": "code",
      "execution_count": 41,
      "metadata": {
        "id": "bsz_v6cMmV9y"
      },
      "outputs": [],
      "source": [
        "data_augmentation = keras.Sequential(\n",
        "    [\n",
        "        layers.Normalization(),\n",
        "        layers.Resizing(image_size, image_size),\n",
        "        layers.RandomFlip(\"horizontal\"),\n",
        "        layers.RandomZoom(\n",
        "            height_factor=0.2, width_factor=0.2\n",
        "        ),\n",
        "    ],\n",
        "    name=\"data_augmentation\",\n",
        ")\n",
        "# Compute the mean and the variance of the training data for normalization.\n",
        "data_augmentation.layers[0].adapt(x_train)"
      ]
    },
    {
      "cell_type": "markdown",
      "metadata": {
        "id": "V-LawNlJmV91"
      },
      "source": [
        "## Implement Feedforward network (FFN)"
      ]
    },
    {
      "cell_type": "code",
      "execution_count": 42,
      "metadata": {
        "id": "h8DSYoC7mV92"
      },
      "outputs": [],
      "source": [
        "\n",
        "def create_ffn(hidden_units, dropout_rate):\n",
        "    ffn_layers = []\n",
        "    for units in hidden_units[:-1]:\n",
        "        ffn_layers.append(layers.Dense(units, activation=tf.nn.gelu))\n",
        "\n",
        "    ffn_layers.append(layers.Dense(units=hidden_units[-1]))\n",
        "    ffn_layers.append(layers.Dropout(dropout_rate))\n",
        "\n",
        "    ffn = keras.Sequential(ffn_layers)\n",
        "    return ffn\n"
      ]
    },
    {
      "cell_type": "markdown",
      "metadata": {
        "id": "fK0YnOKLmV94"
      },
      "source": [
        "## Implement patch creation as a layer"
      ]
    },
    {
      "cell_type": "code",
      "execution_count": 43,
      "metadata": {
        "id": "8ORFk4NBmV95"
      },
      "outputs": [],
      "source": [
        "\n",
        "class Patches(layers.Layer):\n",
        "    def __init__(self, patch_size):\n",
        "        super().__init__()\n",
        "        self.patch_size = patch_size\n",
        "\n",
        "    def call(self, images):\n",
        "        batch_size = tf.shape(images)[0]\n",
        "        patches = tf.image.extract_patches(\n",
        "            images=images,\n",
        "            sizes=[1, self.patch_size, self.patch_size, 1],\n",
        "            strides=[1, self.patch_size, self.patch_size, 1],\n",
        "            rates=[1, 1, 1, 1],\n",
        "            padding=\"VALID\",\n",
        "        )\n",
        "        patch_dims = patches.shape[-1]\n",
        "        patches = tf.reshape(patches, [batch_size, -1, patch_dims])\n",
        "        return patches\n"
      ]
    },
    {
      "cell_type": "markdown",
      "metadata": {
        "id": "MOZFTAT4mV96"
      },
      "source": [
        "## Implement the patch encoding layer\n",
        "\n",
        "The `PatchEncoder` layer will linearly transform a patch by projecting it into\n",
        "a vector of size `latent_dim`. In addition, it adds a learnable position embedding\n",
        "to the projected vector.\n",
        "\n",
        "Note that the orginal Perceiver paper uses the Fourier feature positional encodings."
      ]
    },
    {
      "cell_type": "code",
      "execution_count": 44,
      "metadata": {
        "id": "_COGY1xGmV97"
      },
      "outputs": [],
      "source": [
        "\n",
        "class PatchEncoder(layers.Layer):\n",
        "    def __init__(self, num_patches, projection_dim):\n",
        "        super().__init__()\n",
        "        self.num_patches = num_patches\n",
        "        self.projection = layers.Dense(units=projection_dim)\n",
        "        self.position_embedding = layers.Embedding(\n",
        "            input_dim=num_patches, output_dim=projection_dim\n",
        "        )\n",
        "\n",
        "    def call(self, patches):\n",
        "        positions = tf.range(start=0, limit=self.num_patches, delta=1)\n",
        "        encoded = self.projection(patches) + self.position_embedding(positions)\n",
        "        return encoded\n"
      ]
    },
    {
      "cell_type": "markdown",
      "metadata": {
        "id": "1_dFQIH8mV99"
      },
      "source": [
        "## Build the Perceiver model\n",
        "\n",
        "The Perceiver consists of two modules: a cross-attention\n",
        "module and a standard Transformer with self-attention."
      ]
    },
    {
      "cell_type": "markdown",
      "metadata": {
        "id": "L3GWYZYomV9-"
      },
      "source": [
        "### Cross-attention module\n",
        "\n",
        "The cross-attention expects a `(latent_dim, projection_dim)` latent array,\n",
        "and the `(data_dim,  projection_dim)` data array as inputs,\n",
        "to produce a `(latent_dim, projection_dim)` latent array as an output.\n",
        "To apply cross-attention, the `query` vectors are generated from the latent array,\n",
        "while the `key` and `value` vectors are generated from the encoded image.\n",
        "\n",
        "Note that the data array in this example is the image,\n",
        "where the `data_dim` is set to the `num_patches`."
      ]
    },
    {
      "cell_type": "code",
      "execution_count": 45,
      "metadata": {
        "id": "-zvt5USmmV9_"
      },
      "outputs": [],
      "source": [
        "\n",
        "def create_cross_attention_module(\n",
        "    latent_dim, data_dim, projection_dim, ffn_units, dropout_rate\n",
        "):\n",
        "\n",
        "    inputs = {\n",
        "        # Recieve the latent array as an input of shape [1, latent_dim, projection_dim].\n",
        "        \"latent_array\": layers.Input(shape=(latent_dim, projection_dim)),\n",
        "        # Recieve the data_array (encoded image) as an input of shape [batch_size, data_dim, projection_dim].\n",
        "        \"data_array\": layers.Input(shape=(data_dim, projection_dim)),\n",
        "    }\n",
        "\n",
        "    # Apply layer norm to the inputs\n",
        "    latent_array = layers.LayerNormalization(epsilon=1e-6)(inputs[\"latent_array\"])\n",
        "    data_array = layers.LayerNormalization(epsilon=1e-6)(inputs[\"data_array\"])\n",
        "\n",
        "    # Create query tensor: [1, latent_dim, projection_dim].\n",
        "    query = layers.Dense(units=projection_dim)(latent_array)\n",
        "    # Create key tensor: [batch_size, data_dim, projection_dim].\n",
        "    key = layers.Dense(units=projection_dim)(data_array)\n",
        "    # Create value tensor: [batch_size, data_dim, projection_dim].\n",
        "    value = layers.Dense(units=projection_dim)(data_array)\n",
        "\n",
        "    # Generate cross-attention outputs: [batch_size, latent_dim, projection_dim].\n",
        "    attention_output = layers.Attention(use_scale=True, dropout=0.1)(\n",
        "        [query, key, value], return_attention_scores=False\n",
        "    )\n",
        "    # Skip connection 1.\n",
        "    attention_output = layers.Add()([attention_output, latent_array])\n",
        "\n",
        "    # Apply layer norm.\n",
        "    attention_output = layers.LayerNormalization(epsilon=1e-6)(attention_output)\n",
        "    # Apply Feedforward network.\n",
        "    ffn = create_ffn(hidden_units=ffn_units, dropout_rate=dropout_rate)\n",
        "    outputs = ffn(attention_output)\n",
        "    # Skip connection 2.\n",
        "    outputs = layers.Add()([outputs, attention_output])\n",
        "\n",
        "    # Create the Keras model.\n",
        "    model = keras.Model(inputs=inputs, outputs=outputs)\n",
        "    return model\n"
      ]
    },
    {
      "cell_type": "markdown",
      "metadata": {
        "id": "7B75xb1ImV-B"
      },
      "source": [
        "### Transformer module\n",
        "\n",
        "The Transformer expects the output latent vector from the cross-attention module\n",
        "as an input, applies multi-head self-attention to its `latent_dim` elements,\n",
        "followed by feedforward network, to produce another `(latent_dim, projection_dim)` latent array."
      ]
    },
    {
      "cell_type": "code",
      "execution_count": 46,
      "metadata": {
        "id": "DANa6LOCmV-C"
      },
      "outputs": [],
      "source": [
        "\n",
        "def create_transformer_module(\n",
        "    latent_dim,\n",
        "    projection_dim,\n",
        "    num_heads,\n",
        "    num_transformer_blocks,\n",
        "    ffn_units,\n",
        "    dropout_rate,\n",
        "):\n",
        "\n",
        "    # input_shape: [1, latent_dim, projection_dim]\n",
        "    inputs = layers.Input(shape=(latent_dim, projection_dim))\n",
        "\n",
        "    x0 = inputs\n",
        "    # Create multiple layers of the Transformer block.\n",
        "    for _ in range(num_transformer_blocks):\n",
        "        # Apply layer normalization 1.\n",
        "        x1 = layers.LayerNormalization(epsilon=1e-6)(x0)\n",
        "        # Create a multi-head self-attention layer.\n",
        "        attention_output = layers.MultiHeadAttention(\n",
        "            num_heads=num_heads, key_dim=projection_dim, dropout=0.1\n",
        "        )(x1, x1)\n",
        "        # Skip connection 1.\n",
        "        x2 = layers.Add()([attention_output, x0])\n",
        "        # Apply layer normalization 2.\n",
        "        x3 = layers.LayerNormalization(epsilon=1e-6)(x2)\n",
        "        # Apply Feedforward network.\n",
        "        ffn = create_ffn(hidden_units=ffn_units, dropout_rate=dropout_rate)\n",
        "        x3 = ffn(x3)\n",
        "        # Skip connection 2.\n",
        "        x0 = layers.Add()([x3, x2])\n",
        "\n",
        "    # Create the Keras model.\n",
        "    model = keras.Model(inputs=inputs, outputs=x0)\n",
        "    return model\n"
      ]
    },
    {
      "cell_type": "markdown",
      "metadata": {
        "id": "zcbAxwO4mV-D"
      },
      "source": [
        "### Perceiver model\n",
        "\n",
        "The Perceiver model repeats the cross-attention and Transformer modules\n",
        "`num_iterations` times—with shared weights and skip connections—to allow\n",
        "the latent array to iteratively extract information from the input image as it is needed."
      ]
    },
    {
      "cell_type": "code",
      "execution_count": 47,
      "metadata": {
        "id": "6cQz5NgZmV-G"
      },
      "outputs": [],
      "source": [
        "\n",
        "class Perceiver(keras.Model):\n",
        "    def __init__(\n",
        "        self,\n",
        "        patch_size,\n",
        "        data_dim,\n",
        "        latent_dim,\n",
        "        projection_dim,\n",
        "        num_heads,\n",
        "        num_transformer_blocks,\n",
        "        ffn_units,\n",
        "        dropout_rate,\n",
        "        num_iterations,\n",
        "        classifier_units,\n",
        "    ):\n",
        "        super().__init__()\n",
        "\n",
        "        self.latent_dim = latent_dim\n",
        "        self.data_dim = data_dim\n",
        "        self.patch_size = patch_size\n",
        "        self.projection_dim = projection_dim\n",
        "        self.num_heads = num_heads\n",
        "        self.num_transformer_blocks = num_transformer_blocks\n",
        "        self.ffn_units = ffn_units\n",
        "        self.dropout_rate = dropout_rate\n",
        "        self.num_iterations = num_iterations\n",
        "        self.classifier_units = classifier_units\n",
        "\n",
        "    def build(self, input_shape):\n",
        "        # Create latent array.\n",
        "        self.latent_array = self.add_weight(\n",
        "            shape=(self.latent_dim, self.projection_dim),\n",
        "            initializer=\"random_normal\",\n",
        "            trainable=True,\n",
        "        )\n",
        "\n",
        "        # Create patching module.\n",
        "        self.patcher = Patches(self.patch_size)\n",
        "\n",
        "        # Create patch encoder.\n",
        "        self.patch_encoder = PatchEncoder(self.data_dim, self.projection_dim)\n",
        "\n",
        "        # Create cross-attenion module.\n",
        "        self.cross_attention = create_cross_attention_module(\n",
        "            self.latent_dim,\n",
        "            self.data_dim,\n",
        "            self.projection_dim,\n",
        "            self.ffn_units,\n",
        "            self.dropout_rate,\n",
        "        )\n",
        "\n",
        "        # Create Transformer module.\n",
        "        self.transformer = create_transformer_module(\n",
        "            self.latent_dim,\n",
        "            self.projection_dim,\n",
        "            self.num_heads,\n",
        "            self.num_transformer_blocks,\n",
        "            self.ffn_units,\n",
        "            self.dropout_rate,\n",
        "        )\n",
        "\n",
        "        # Create global average pooling layer.\n",
        "        self.global_average_pooling = layers.GlobalAveragePooling1D()\n",
        "\n",
        "        # Create a classification head.\n",
        "        self.classification_head = create_ffn(\n",
        "            hidden_units=self.classifier_units, dropout_rate=self.dropout_rate\n",
        "        )\n",
        "\n",
        "        super().build(input_shape)\n",
        "\n",
        "    def call(self, inputs):\n",
        "        # Augment data.\n",
        "        augmented = data_augmentation(inputs)\n",
        "        # Create patches.\n",
        "        patches = self.patcher(augmented)\n",
        "        # Encode patches.\n",
        "        encoded_patches = self.patch_encoder(patches)\n",
        "        # Prepare cross-attention inputs.\n",
        "        cross_attention_inputs = {\n",
        "            \"latent_array\": tf.expand_dims(self.latent_array, 0),\n",
        "            \"data_array\": encoded_patches,\n",
        "        }\n",
        "        # Apply the cross-attention and the Transformer modules iteratively.\n",
        "        for _ in range(self.num_iterations):\n",
        "            # Apply cross-attention from the latent array to the data array.\n",
        "            latent_array = self.cross_attention(cross_attention_inputs)\n",
        "            # Apply self-attention Transformer to the latent array.\n",
        "            latent_array = self.transformer(latent_array)\n",
        "            # Set the latent array of the next iteration.\n",
        "            cross_attention_inputs[\"latent_array\"] = latent_array\n",
        "\n",
        "        # Apply global average pooling to generate a [batch_size, projection_dim] repesentation tensor.\n",
        "        representation = self.global_average_pooling(latent_array)\n",
        "        # Generate logits.\n",
        "        logits = self.classification_head(representation)\n",
        "        return logits\n"
      ]
    },
    {
      "cell_type": "markdown",
      "metadata": {
        "id": "KQ2bPdnumV-I"
      },
      "source": [
        "## Compile, train, and evaluate the mode"
      ]
    },
    {
      "cell_type": "code",
      "execution_count": 48,
      "metadata": {
        "id": "j9xNkYTKmV-J"
      },
      "outputs": [],
      "source": [
        "\n",
        "def run_experiment(model):\n",
        "\n",
        "    # Create LAMB optimizer with weight decay.\n",
        "    optimizer = tfa.optimizers.LAMB(\n",
        "        learning_rate=learning_rate, weight_decay_rate=weight_decay,\n",
        "    )\n",
        "\n",
        "    # Compile the model.\n",
        "    model.compile(\n",
        "        optimizer=optimizer,\n",
        "        loss=keras.losses.SparseCategoricalCrossentropy(from_logits=True),\n",
        "        metrics=[\n",
        "            keras.metrics.SparseCategoricalAccuracy(name=\"acc\"),\n",
        "            keras.metrics.SparseTopKCategoricalAccuracy(5, name=\"top5-acc\"),\n",
        "        ],\n",
        "    )\n",
        "\n",
        "    # Create a learning rate scheduler callback.\n",
        "    reduce_lr = keras.callbacks.ReduceLROnPlateau(\n",
        "        monitor=\"val_loss\", factor=0.2, patience=3\n",
        "    )\n",
        "\n",
        "    # Create an early stopping callback.\n",
        "    early_stopping = tf.keras.callbacks.EarlyStopping(\n",
        "        monitor=\"val_loss\", patience=15, restore_best_weights=True\n",
        "    )\n",
        "\n",
        "    # Fit the model.\n",
        "    history = model.fit(\n",
        "        x=x_train,\n",
        "        y=y_train,\n",
        "        batch_size=batch_size,\n",
        "        epochs=150,\n",
        "        validation_split=0.1,\n",
        "        callbacks=[early_stopping, reduce_lr],\n",
        "    )\n",
        "\n",
        "    _, accuracy, top_5_accuracy = model.evaluate(x_test, y_test)\n",
        "    print(f\"Test accuracy: {round(accuracy * 100, 2)}%\") \n",
        "\n",
        "    # Return history to plot learning curves.\n",
        "    return history\n"
      ]
    },
    {
      "cell_type": "markdown",
      "metadata": {
        "id": "tHY76xWtmV-K"
      },
      "source": [
        "Note that training the perceiver model with the current settings on a V100 GPUs takes\n",
        "around 200 seconds."
      ]
    },
    {
      "cell_type": "code",
      "execution_count": 49,
      "metadata": {
        "colab": {
          "base_uri": "https://localhost:8080/"
        },
        "id": "jxAGkY0OmV-M",
        "outputId": "a2535d1f-83dc-4ab6-e6a2-597dda43b8d6"
      },
      "outputs": [
        {
          "output_type": "stream",
          "name": "stdout",
          "text": [
            "Epoch 1/150\n",
            "21/21 [==============================] - 60s 1s/step - loss: 1.3771 - acc: 0.3035 - top5-acc: 1.0000 - val_loss: 1.1573 - val_acc: 0.3750 - val_top5-acc: 1.0000 - lr: 0.0010\n",
            "Epoch 2/150\n",
            "21/21 [==============================] - 25s 1s/step - loss: 1.3221 - acc: 0.3181 - top5-acc: 1.0000 - val_loss: 1.2536 - val_acc: 0.3056 - val_top5-acc: 1.0000 - lr: 0.0010\n",
            "Epoch 3/150\n",
            "21/21 [==============================] - 25s 1s/step - loss: 1.2763 - acc: 0.3398 - top5-acc: 1.0000 - val_loss: 1.1813 - val_acc: 0.3750 - val_top5-acc: 1.0000 - lr: 0.0010\n",
            "Epoch 4/150\n",
            "21/21 [==============================] - 25s 1s/step - loss: 1.2731 - acc: 0.3359 - top5-acc: 1.0000 - val_loss: 1.2112 - val_acc: 0.3750 - val_top5-acc: 1.0000 - lr: 0.0010\n",
            "Epoch 5/150\n",
            "21/21 [==============================] - 26s 1s/step - loss: 1.2608 - acc: 0.3351 - top5-acc: 1.0000 - val_loss: 1.1679 - val_acc: 0.3472 - val_top5-acc: 1.0000 - lr: 2.0000e-04\n",
            "Epoch 6/150\n",
            "21/21 [==============================] - 26s 1s/step - loss: 1.2465 - acc: 0.3421 - top5-acc: 1.0000 - val_loss: 1.1962 - val_acc: 0.3056 - val_top5-acc: 1.0000 - lr: 2.0000e-04\n",
            "Epoch 7/150\n",
            "21/21 [==============================] - 26s 1s/step - loss: 1.2450 - acc: 0.3197 - top5-acc: 1.0000 - val_loss: 1.1804 - val_acc: 0.3056 - val_top5-acc: 1.0000 - lr: 2.0000e-04\n",
            "Epoch 8/150\n",
            "21/21 [==============================] - 26s 1s/step - loss: 1.2477 - acc: 0.3073 - top5-acc: 1.0000 - val_loss: 1.1720 - val_acc: 0.3750 - val_top5-acc: 1.0000 - lr: 4.0000e-05\n",
            "Epoch 9/150\n",
            "21/21 [==============================] - 26s 1s/step - loss: 1.2377 - acc: 0.3336 - top5-acc: 1.0000 - val_loss: 1.1666 - val_acc: 0.3750 - val_top5-acc: 1.0000 - lr: 4.0000e-05\n",
            "Epoch 10/150\n",
            "21/21 [==============================] - 26s 1s/step - loss: 1.2420 - acc: 0.3459 - top5-acc: 1.0000 - val_loss: 1.1729 - val_acc: 0.3194 - val_top5-acc: 1.0000 - lr: 4.0000e-05\n",
            "Epoch 11/150\n",
            "21/21 [==============================] - 26s 1s/step - loss: 1.2329 - acc: 0.3151 - top5-acc: 1.0000 - val_loss: 1.1714 - val_acc: 0.3611 - val_top5-acc: 1.0000 - lr: 8.0000e-06\n",
            "Epoch 12/150\n",
            "21/21 [==============================] - 26s 1s/step - loss: 1.2444 - acc: 0.3367 - top5-acc: 1.0000 - val_loss: 1.1714 - val_acc: 0.3611 - val_top5-acc: 1.0000 - lr: 8.0000e-06\n",
            "Epoch 13/150\n",
            "21/21 [==============================] - 26s 1s/step - loss: 1.2401 - acc: 0.3220 - top5-acc: 1.0000 - val_loss: 1.1729 - val_acc: 0.3819 - val_top5-acc: 1.0000 - lr: 8.0000e-06\n",
            "Epoch 14/150\n",
            "21/21 [==============================] - 26s 1s/step - loss: 1.2280 - acc: 0.3436 - top5-acc: 1.0000 - val_loss: 1.1728 - val_acc: 0.3819 - val_top5-acc: 1.0000 - lr: 1.6000e-06\n",
            "Epoch 15/150\n",
            "21/21 [==============================] - 26s 1s/step - loss: 1.2489 - acc: 0.3251 - top5-acc: 1.0000 - val_loss: 1.1723 - val_acc: 0.3542 - val_top5-acc: 1.0000 - lr: 1.6000e-06\n",
            "Epoch 16/150\n",
            "21/21 [==============================] - 26s 1s/step - loss: 1.2394 - acc: 0.3475 - top5-acc: 1.0000 - val_loss: 1.1719 - val_acc: 0.3611 - val_top5-acc: 1.0000 - lr: 1.6000e-06\n",
            "16/16 [==============================] - 3s 204ms/step - loss: 1.2297 - acc: 0.3402 - top5-acc: 1.0000\n",
            "Test accuracy: 34.02%\n"
          ]
        }
      ],
      "source": [
        "perceiver_classifier = Perceiver(\n",
        "    patch_size,\n",
        "    num_patches,\n",
        "    latent_dim,\n",
        "    projection_dim,\n",
        "    num_heads,\n",
        "    num_transformer_blocks,\n",
        "    ffn_units,\n",
        "    dropout_rate,\n",
        "    num_iterations,\n",
        "    classifier_units,\n",
        ")\n",
        "\n",
        "\n",
        "history = run_experiment(perceiver_classifier)"
      ]
    },
    {
      "cell_type": "markdown",
      "metadata": {
        "id": "C8zcAFV6mV-N"
      },
      "source": [
        "After 40 epochs, the Perceiver model achieves around 53% accuracy and 81% top-5 accuracy on the test data.\n",
        "\n",
        "As mentioned in the ablations of the [Perceiver](https://arxiv.org/abs/2103.03206) paper,\n",
        "you can obtain better results by increasing the latent array size,\n",
        "increasing the (projection) dimensions of the latent array and data array elements,\n",
        "increasing the number of blocks in the Transformer module, and increasing the number of iterations of applying\n",
        "the cross-attention and the latent Transformer modules. You may also try to increase the size the input images\n",
        "and use different patch sizes.\n",
        "\n",
        "The Perceiver benefits from inceasing the model size. However, larger models needs bigger accelerators\n",
        "to fit in and train efficiently. This is why in the Perceiver paper they used 32 TPU cores to run the experiments."
      ]
    }
  ],
  "metadata": {
    "accelerator": "GPU",
    "colab": {
      "name": "perceiver_image_classification",
      "provenance": []
    },
    "kernelspec": {
      "display_name": "Python 3",
      "language": "python",
      "name": "python3"
    },
    "language_info": {
      "codemirror_mode": {
        "name": "ipython",
        "version": 3
      },
      "file_extension": ".py",
      "mimetype": "text/x-python",
      "name": "python",
      "nbconvert_exporter": "python",
      "pygments_lexer": "ipython3",
      "version": "3.7.0"
    }
  },
  "nbformat": 4,
  "nbformat_minor": 0
}