{
  "cells": [
    {
      "cell_type": "code",
      "source": [
        "pip install -U tensorflow-addons"
      ],
      "metadata": {
        "colab": {
          "base_uri": "https://localhost:8080/"
        },
        "id": "zFO5uYx2IyJj",
        "outputId": "95d97b83-0c66-4160-d60c-efbbfa3a0738"
      },
      "execution_count": 1,
      "outputs": [
        {
          "output_type": "stream",
          "name": "stdout",
          "text": [
            "Looking in indexes: https://pypi.org/simple, https://us-python.pkg.dev/colab-wheels/public/simple/\n",
            "Collecting tensorflow-addons\n",
            "  Downloading tensorflow_addons-0.20.0-cp39-cp39-manylinux_2_17_x86_64.manylinux2014_x86_64.whl (591 kB)\n",
            "\u001b[2K     \u001b[90m━━━━━━━━━━━━━━━━━━━━━━━━━━━━━━━━━━━━━━\u001b[0m \u001b[32m591.0/591.0 kB\u001b[0m \u001b[31m11.4 MB/s\u001b[0m eta \u001b[36m0:00:00\u001b[0m\n",
            "\u001b[?25hCollecting typeguard<3.0.0,>=2.7\n",
            "  Downloading typeguard-2.13.3-py3-none-any.whl (17 kB)\n",
            "Requirement already satisfied: packaging in /usr/local/lib/python3.9/dist-packages (from tensorflow-addons) (23.1)\n",
            "Installing collected packages: typeguard, tensorflow-addons\n",
            "Successfully installed tensorflow-addons-0.20.0 typeguard-2.13.3\n"
          ]
        }
      ]
    },
    {
      "cell_type": "markdown",
      "metadata": {
        "id": "cKwK16gbIrMn"
      },
      "source": [
        "## Setup"
      ]
    },
    {
      "cell_type": "code",
      "execution_count": 3,
      "metadata": {
        "colab": {
          "base_uri": "https://localhost:8080/"
        },
        "id": "tAt8pkMaIrMo",
        "outputId": "4a57c18a-2ea1-482e-e475-045fcebe6700"
      },
      "outputs": [
        {
          "output_type": "stream",
          "name": "stderr",
          "text": [
            "/usr/local/lib/python3.9/dist-packages/tensorflow_addons/utils/tfa_eol_msg.py:23: UserWarning: \n",
            "\n",
            "TensorFlow Addons (TFA) has ended development and introduction of new features.\n",
            "TFA has entered a minimal maintenance and release mode until a planned end of life in May 2024.\n",
            "Please modify downstream libraries to take dependencies from other repositories in our TensorFlow community (e.g. Keras, Keras-CV, and Keras-NLP). \n",
            "\n",
            "For more information see: https://github.com/tensorflow/addons/issues/2807 \n",
            "\n",
            "  warnings.warn(\n"
          ]
        }
      ],
      "source": [
        "import numpy as np\n",
        "import tensorflow as tf\n",
        "from tensorflow import keras\n",
        "from tensorflow.keras import layers\n",
        "import tensorflow_addons as tfa"
      ]
    },
    {
      "cell_type": "code",
      "source": [
        "from google.colab import drive\n",
        "drive.mount('/content/drive')"
      ],
      "metadata": {
        "colab": {
          "base_uri": "https://localhost:8080/"
        },
        "id": "Z0TkKAHjJ2qn",
        "outputId": "f6b5288f-dcb9-4c4c-b4e4-5efc0436719f"
      },
      "execution_count": 2,
      "outputs": [
        {
          "output_type": "stream",
          "name": "stdout",
          "text": [
            "Mounted at /content/drive\n"
          ]
        }
      ]
    },
    {
      "cell_type": "markdown",
      "metadata": {
        "id": "YS96bCi5IrMq"
      },
      "source": [
        "## Prepare the data"
      ]
    },
    {
      "cell_type": "code",
      "execution_count": 4,
      "metadata": {
        "colab": {
          "base_uri": "https://localhost:8080/"
        },
        "id": "L2zc9worIrMr",
        "outputId": "e227a582-6a69-41ec-c989-f19588cd010b"
      },
      "outputs": [
        {
          "output_type": "stream",
          "name": "stdout",
          "text": [
            "Found 6400 images belonging to 4 classes.\n",
            "Found 6400 images belonging to 4 classes.\n",
            "Training data shape: (128, 128, 3)\n",
            "Training labels shape: (6400,)\n",
            "Testing data shape: (128, 128, 3)\n",
            "Testing labels shape: (6400,)\n"
          ]
        }
      ],
      "source": [
        "import tensorflow as tf\n",
        "import pathlib\n",
        "\n",
        "# Define the paths to the training and testing data folders\n",
        "train_data_path = \"/content/drive/MyDrive/Azymer/AlzimerSVMModel/PreprocessSeg\"\n",
        "test_data_path = \"/content/drive/MyDrive/Azymer/AlzimerSVMModel/PreprocessSeg\"\n",
        "\n",
        "# Use TensorFlow's image data generator to load the images and labels from the folders\n",
        "train_data_generator = tf.keras.preprocessing.image.ImageDataGenerator(rescale=1./255)\n",
        "test_data_generator = tf.keras.preprocessing.image.ImageDataGenerator(rescale=1./255)\n",
        "\n",
        "train_data = train_data_generator.flow_from_directory(directory=train_data_path,\n",
        "                                                      target_size=(128, 128),\n",
        "                                                      batch_size=32,\n",
        "                                                      class_mode='categorical',\n",
        "                                                      shuffle=True)\n",
        "\n",
        "test_data = test_data_generator.flow_from_directory(directory=test_data_path,\n",
        "                                                    target_size=(128,128),\n",
        "                                                    batch_size=32,\n",
        "                                                    class_mode='categorical',\n",
        "                                                    shuffle=False)\n",
        "\n",
        "# Print the shapes of the data and labels\n",
        "print(\"Training data shape:\", train_data.image_shape)\n",
        "print(\"Training labels shape:\", train_data.classes.shape)\n",
        "print(\"Testing data shape:\", test_data.image_shape)\n",
        "print(\"Testing labels shape:\", test_data.classes.shape)\n",
        "\n",
        "# Assign the data and labels to variables x_train, y_train, x_test, and y_test\n",
        "x_train, y_train = train_data.next()\n",
        "x_test, y_test = test_data.next()\n"
      ]
    },
    {
      "cell_type": "code",
      "source": [
        "val_split = 0.1\n",
        "\n",
        "val_indices = int(len(x_train) * val_split)\n",
        "new_x_train, new_y_train = x_train[val_indices:], y_train[val_indices:]\n",
        "x_val, y_val = x_train[:val_indices], y_train[:val_indices]\n",
        "\n",
        "print(f\"Training data samples: {len(new_x_train)}\")\n",
        "print(f\"Validation data samples: {len(x_val)}\")\n",
        "print(f\"Test data samples: {len(x_test)}\")"
      ],
      "metadata": {
        "colab": {
          "base_uri": "https://localhost:8080/"
        },
        "id": "GIlKJ3cvhyee",
        "outputId": "d6f0a738-7952-43d4-f5ac-3faf8d2b3539"
      },
      "execution_count": 5,
      "outputs": [
        {
          "output_type": "stream",
          "name": "stdout",
          "text": [
            "Training data samples: 29\n",
            "Validation data samples: 3\n",
            "Test data samples: 32\n"
          ]
        }
      ]
    },
    {
      "cell_type": "code",
      "source": [
        "import tensorflow as tf\n",
        "import numpy as np\n",
        "\n",
        "# Assume y_train and y_test have a shape of [?, 4]\n",
        "# Convert them to integer labels\n",
        "y_train_int = np.argmax(y_train, axis=1)\n",
        "y_test_int = np.argmax(y_test, axis=1)\n",
        "\n",
        "# Now you can convert them to one-hot encoded vectors with num_classes=4\n",
        "y_train = tf.keras.utils.to_categorical(y_train_int, num_classes=4)\n",
        "y_test = tf.keras.utils.to_categorical(y_test_int, num_classes=4)\n",
        "\n",
        "y_train = y_train.squeeze()\n",
        "y_test = y_test.squeeze()\n"
      ],
      "metadata": {
        "id": "3AsR4OdRPqYn"
      },
      "execution_count": 6,
      "outputs": []
    },
    {
      "cell_type": "markdown",
      "metadata": {
        "id": "nx0xH-g6IrMs"
      },
      "source": [
        "## Configure the hyperparameters"
      ]
    },
    {
      "cell_type": "code",
      "execution_count": 7,
      "metadata": {
        "id": "DG5Lb4nKIrMt"
      },
      "outputs": [],
      "source": [
        "learning_rate = 0.001\n",
        "weight_decay = 0.0001\n",
        "batch_size = 256\n",
        "num_epochs = 100\n",
        "image_size = 72  # We'll resize input images to this size\n",
        "patch_size = 6  # Size of the patches to be extract from the input images\n",
        "num_patches = (image_size // patch_size) ** 2\n",
        "projection_dim = 64\n",
        "num_heads = 4\n",
        "transformer_units = [\n",
        "    projection_dim * 2,\n",
        "    projection_dim,\n",
        "]  # Size of the transformer layers\n",
        "transformer_layers = 8\n",
        "mlp_head_units = [2048, 1024]  # Size of the dense layers of the final classifier\n"
      ]
    },
    {
      "cell_type": "markdown",
      "metadata": {
        "id": "hXybv149IrMu"
      },
      "source": [
        "## Use data augmentation"
      ]
    },
    {
      "cell_type": "code",
      "execution_count": 8,
      "metadata": {
        "id": "ej6Knw7qIrMv"
      },
      "outputs": [],
      "source": [
        "data_augmentation = keras.Sequential(\n",
        "    [\n",
        "        layers.Normalization(),\n",
        "        layers.Resizing(image_size, image_size),\n",
        "        layers.RandomFlip(\"horizontal\"),\n",
        "        layers.RandomRotation(factor=0.02),\n",
        "        layers.RandomZoom(\n",
        "            height_factor=0.2, width_factor=0.2\n",
        "        ),\n",
        "    ],\n",
        "    name=\"data_augmentation\",\n",
        ")\n",
        "# Compute the mean and the variance of the training data for normalization.\n",
        "data_augmentation.layers[0].adapt(x_train)\n"
      ]
    },
    {
      "cell_type": "markdown",
      "metadata": {
        "id": "dEaldOYqIrMw"
      },
      "source": [
        "## Implement multilayer perceptron (MLP)"
      ]
    },
    {
      "cell_type": "code",
      "execution_count": 9,
      "metadata": {
        "id": "Ghd3JBOvIrMw"
      },
      "outputs": [],
      "source": [
        "\n",
        "def mlp(x, hidden_units, dropout_rate):\n",
        "    for units in hidden_units:\n",
        "        x = layers.Dense(units, activation=tf.nn.gelu)(x)\n",
        "        x = layers.Dropout(dropout_rate)(x)\n",
        "    return x\n"
      ]
    },
    {
      "cell_type": "markdown",
      "metadata": {
        "id": "lEPZ2TtbIrMx"
      },
      "source": [
        "## Implement patch creation as a layer"
      ]
    },
    {
      "cell_type": "code",
      "execution_count": 10,
      "metadata": {
        "id": "rkA6cDSnIrMy"
      },
      "outputs": [],
      "source": [
        "\n",
        "class Patches(layers.Layer):\n",
        "    def __init__(self, patch_size):\n",
        "        super().__init__()\n",
        "        self.patch_size = patch_size\n",
        "\n",
        "    def call(self, images):\n",
        "        batch_size = tf.shape(images)[0]\n",
        "        patches = tf.image.extract_patches(\n",
        "            images=images,\n",
        "            sizes=[1, self.patch_size, self.patch_size, 1],\n",
        "            strides=[1, self.patch_size, self.patch_size, 1],\n",
        "            rates=[1, 1, 1, 1],\n",
        "            padding=\"VALID\",\n",
        "        )\n",
        "        patch_dims = patches.shape[-1]\n",
        "        patches = tf.reshape(patches, [batch_size, -1, patch_dims])\n",
        "        return patches\n"
      ]
    },
    {
      "cell_type": "markdown",
      "metadata": {
        "id": "TRaefIZCIrMz"
      },
      "source": [
        "Let's display patches for a sample image"
      ]
    },
    {
      "cell_type": "code",
      "execution_count": 11,
      "metadata": {
        "colab": {
          "base_uri": "https://localhost:8080/",
          "height": 742
        },
        "id": "z0ZHt2EpIrMz",
        "outputId": "a0d17ca6-ab0d-4ba5-c8b6-5975ff4bfa81"
      },
      "outputs": [
        {
          "output_type": "stream",
          "name": "stdout",
          "text": [
            "Image size: 72 X 72\n",
            "Patch size: 6 X 6\n",
            "Patches per image: 144\n",
            "Elements per patch: 108\n"
          ]
        },
        {
          "output_type": "display_data",
          "data": {
            "text/plain": [
              "<Figure size 400x400 with 1 Axes>"
            ],
            "image/png": "[encoded data removed]"
          },
          "metadata": {}
        },
        {
          "output_type": "display_data",
          "data": {
            "text/plain": [
              "<Figure size 400x400 with 144 Axes>"
            ],
            "image/png": "[encoded data removed]"
          },
          "metadata": {}
        }
      ],
      "source": [
        "import matplotlib.pyplot as plt\n",
        "\n",
        "plt.figure(figsize=(4, 4))\n",
        "image = x_train[np.random.choice(range(x_train.shape[0]))]\n",
        "plt.imshow(image.astype(\"uint8\"))\n",
        "plt.axis(\"off\")\n",
        "\n",
        "resized_image = tf.image.resize(\n",
        "    tf.convert_to_tensor([image]), size=(image_size, image_size)\n",
        ")\n",
        "patches = Patches(patch_size)(resized_image)\n",
        "print(f\"Image size: {image_size} X {image_size}\")\n",
        "print(f\"Patch size: {patch_size} X {patch_size}\")\n",
        "print(f\"Patches per image: {patches.shape[1]}\")\n",
        "print(f\"Elements per patch: {patches.shape[-1]}\")\n",
        "\n",
        "n = int(np.sqrt(patches.shape[1]))\n",
        "plt.figure(figsize=(4, 4))\n",
        "for i, patch in enumerate(patches[0]):\n",
        "    ax = plt.subplot(n, n, i + 1)\n",
        "    patch_img = tf.reshape(patch, (patch_size, patch_size, 3))\n",
        "    plt.imshow(patch_img.numpy().astype(\"uint8\"))\n",
        "    plt.axis(\"off\")"
      ]
    },
    {
      "cell_type": "markdown",
      "metadata": {
        "id": "xt1TogQLIrM0"
      },
      "source": [
        "## Implement the patch encoding layer\n",
        "\n",
        "The `PatchEncoder` layer will linearly transform a patch by projecting it into a\n",
        "vector of size `projection_dim`. In addition, it adds a learnable position\n",
        "embedding to the projected vector."
      ]
    },
    {
      "cell_type": "code",
      "execution_count": 12,
      "metadata": {
        "id": "ZLOn1TJxIrM1"
      },
      "outputs": [],
      "source": [
        "\n",
        "class PatchEncoder(layers.Layer):\n",
        "    def __init__(self, num_patches, projection_dim):\n",
        "        super().__init__()\n",
        "        self.num_patches = num_patches\n",
        "        self.projection = layers.Dense(units=projection_dim)\n",
        "        self.position_embedding = layers.Embedding(\n",
        "            input_dim=num_patches, output_dim=projection_dim\n",
        "        )\n",
        "\n",
        "    def call(self, patch):\n",
        "        positions = tf.range(start=0, limit=self.num_patches, delta=1)\n",
        "        encoded = self.projection(patch) + self.position_embedding(positions)\n",
        "        return encoded\n"
      ]
    },
    {
      "cell_type": "markdown",
      "metadata": {
        "id": "9V-mAXyuIrM1"
      },
      "source": [
        "## Build the ViT model\n",
        "\n",
        "The ViT model consists of multiple Transformer blocks,\n",
        "which use the `layers.MultiHeadAttention` layer as a self-attention mechanism\n",
        "applied to the sequence of patches. The Transformer blocks produce a\n",
        "`[batch_size, num_patches, projection_dim]` tensor, which is processed via an\n",
        "classifier head with softmax to produce the final class probabilities output.\n",
        "\n",
        "Unlike the technique described in the [paper](https://arxiv.org/abs/2010.11929),\n",
        "which prepends a learnable embedding to the sequence of encoded patches to serve\n",
        "as the image representation, all the outputs of the final Transformer block are\n",
        "reshaped with `layers.Flatten()` and used as the image\n",
        "representation input to the classifier head.\n",
        "Note that the `layers.GlobalAveragePooling1D` layer\n",
        "could also be used instead to aggregate the outputs of the Transformer block,\n",
        "especially when the number of patches and the projection dimensions are large."
      ]
    },
    {
      "cell_type": "code",
      "execution_count": 17,
      "metadata": {
        "id": "3lNlPBLiIrM2"
      },
      "outputs": [],
      "source": [
        "input_shape=(128,128,3)\n",
        "num_classes=4\n",
        "def create_vit_classifier():\n",
        "    inputs = layers.Input(shape=input_shape)\n",
        "    # Augment data.\n",
        "    augmented = data_augmentation(inputs)\n",
        "    # Create patches.\n",
        "    patches = Patches(patch_size)(augmented)\n",
        "    # Encode patches.\n",
        "    encoded_patches = PatchEncoder(num_patches, projection_dim)(patches)\n",
        "\n",
        "    # Create multiple layers of the Transformer block.\n",
        "    for _ in range(transformer_layers):\n",
        "        # Layer normalization 1.\n",
        "        x1 = layers.LayerNormalization(epsilon=1e-6)(encoded_patches)\n",
        "        # Create a multi-head attention layer.\n",
        "        attention_output = layers.MultiHeadAttention(\n",
        "            num_heads=num_heads, key_dim=projection_dim, dropout=0.1\n",
        "        )(x1, x1)\n",
        "        # Skip connection 1.\n",
        "        x2 = layers.Add()([attention_output, encoded_patches])\n",
        "        # Layer normalization 2.\n",
        "        x3 = layers.LayerNormalization(epsilon=1e-6)(x2)\n",
        "        # MLP.\n",
        "        x3 = mlp(x3, hidden_units=transformer_units, dropout_rate=0.1)\n",
        "        # Skip connection 2.\n",
        "        encoded_patches = layers.Add()([x3, x2])\n",
        "\n",
        "    # Create a [batch_size, projection_dim] tensor.\n",
        "    representation = layers.LayerNormalization(epsilon=1e-6)(encoded_patches)\n",
        "    representation = layers.Flatten()(representation)\n",
        "    representation = layers.Dropout(0.5)(representation)\n",
        "    # Add MLP.\n",
        "    features = mlp(representation, hidden_units=mlp_head_units, dropout_rate=0.5)\n",
        "    # Classify outputs.\n",
        "    logits = layers.Dense(num_classes)(features)\n",
        "    # Create the Keras model.\n",
        "    model = keras.Model(inputs=inputs, outputs=logits)\n",
        "    return model\n"
      ]
    },
    {
      "cell_type": "markdown",
      "metadata": {
        "id": "aDvJdMGaIrM3"
      },
      "source": [
        "## Compile, train, and evaluate the mode"
      ]
    },
    {
      "cell_type": "code",
      "execution_count": 18,
      "metadata": {
        "id": "Bkb_T9ucIrM4"
      },
      "outputs": [],
      "source": [
        "\n",
        "def run_experiment(model):\n",
        "    optimizer = tfa.optimizers.AdamW(\n",
        "        learning_rate=learning_rate, weight_decay=weight_decay\n",
        "    )\n",
        "\n",
        "    model.compile(\n",
        "        optimizer=optimizer,\n",
        "        loss=\"categorical_crossentropy\", \n",
        "        metrics=[\"accuracy\"],\n",
        "    )\n",
        "\n",
        "    checkpoint_filepath = \"/tmp/checkpoint\"\n",
        "    checkpoint_callback = keras.callbacks.ModelCheckpoint(\n",
        "        checkpoint_filepath,\n",
        "        monitor=\"val_accuracy\",\n",
        "        save_best_only=True,\n",
        "        save_weights_only=True,\n",
        "    )\n",
        "\n",
        "    history = model.fit(\n",
        "        new_x_train,\n",
        "        new_y_train,\n",
        "        batch_size=batch_size,\n",
        "        epochs=num_epochs,\n",
        "        validation_split=0.1,\n",
        "        callbacks=[checkpoint_callback],\n",
        "    )\n",
        "\n",
        "    model.load_weights(checkpoint_filepath)\n",
        "    y_pred = model.predict(x_test)\n",
        "    accuracy = np.mean(np.argmax(y_test, axis=1) == np.argmax(y_pred, axis=1))\n",
        "    top_5_accuracy = np.mean(\n",
        "       [np.argmax(y_test[i]) in np.argsort(y_pred[i])[::-1][:5] for i in range(len(y_test))]\n",
        "    )\n",
        "\n",
        "# Print the test accuracies.\n",
        "    print(f\"Test accuracy: {round(accuracy * 100, 2)}%\")\n",
        "    print(f\"Test top 5 accuracy: {round(top_5_accuracy * 100, 2)}%\")\n",
        "\n",
        "    return history\n",
        "\n",
        " \n"
      ]
    },
    {
      "cell_type": "code",
      "source": [
        "\n",
        "vit_classifier = create_vit_classifier()\n",
        "history = run_experiment(vit_classifier)"
      ],
      "metadata": {
        "colab": {
          "base_uri": "https://localhost:8080/"
        },
        "id": "HBu1WLUROdxD",
        "outputId": "40527a6e-529f-4961-85f3-73cf23870901"
      },
      "execution_count": 19,
      "outputs": [
        {
          "output_type": "stream",
          "name": "stdout",
          "text": [
            "Epoch 1/100\n",
            "1/1 [==============================] - 18s 18s/step - loss: 5.6646 - accuracy: 0.1923 - val_loss: 5.5140 - val_accuracy: 0.0000e+00\n",
            "Epoch 2/100\n",
            "1/1 [==============================] - 0s 136ms/step - loss: 5.9534 - accuracy: 0.0000e+00 - val_loss: 10.8994 - val_accuracy: 0.0000e+00\n",
            "Epoch 3/100\n",
            "1/1 [==============================] - 0s 124ms/step - loss: 10.5750 - accuracy: 0.0000e+00 - val_loss: 10.8103 - val_accuracy: 0.0000e+00\n",
            "Epoch 4/100\n",
            "1/1 [==============================] - 0s 110ms/step - loss: 8.8522 - accuracy: 0.0000e+00 - val_loss: 5.8552 - val_accuracy: 0.0000e+00\n",
            "Epoch 5/100\n",
            "1/1 [==============================] - 0s 121ms/step - loss: 7.0520 - accuracy: 0.0000e+00 - val_loss: 5.6507 - val_accuracy: 0.0000e+00\n",
            "Epoch 6/100\n",
            "1/1 [==============================] - 1s 1s/step - loss: 7.5303 - accuracy: 0.0000e+00 - val_loss: 10.7454 - val_accuracy: 0.3333\n",
            "Epoch 7/100\n",
            "1/1 [==============================] - 0s 133ms/step - loss: 7.5272 - accuracy: 0.2308 - val_loss: 5.6428 - val_accuracy: 0.3333\n",
            "Epoch 8/100\n",
            "1/1 [==============================] - 0s 119ms/step - loss: 6.9681 - accuracy: 0.4231 - val_loss: 5.4701 - val_accuracy: 0.3333\n",
            "Epoch 9/100\n",
            "1/1 [==============================] - 0s 109ms/step - loss: 6.8898 - accuracy: 0.4231 - val_loss: 5.3727 - val_accuracy: 0.3333\n",
            "Epoch 10/100\n",
            "1/1 [==============================] - 0s 113ms/step - loss: 6.8263 - accuracy: 0.4231 - val_loss: 5.3727 - val_accuracy: 0.3333\n",
            "Epoch 11/100\n",
            "1/1 [==============================] - 0s 115ms/step - loss: 7.4404 - accuracy: 0.4231 - val_loss: 5.3727 - val_accuracy: 0.3333\n",
            "Epoch 12/100\n",
            "1/1 [==============================] - 0s 109ms/step - loss: 6.8192 - accuracy: 0.4231 - val_loss: 5.3727 - val_accuracy: 0.3333\n",
            "Epoch 13/100\n",
            "1/1 [==============================] - 0s 106ms/step - loss: 8.6790 - accuracy: 0.4231 - val_loss: 5.3727 - val_accuracy: 0.3333\n",
            "Epoch 14/100\n",
            "1/1 [==============================] - 0s 119ms/step - loss: 8.0590 - accuracy: 0.4231 - val_loss: 5.3727 - val_accuracy: 0.3333\n",
            "Epoch 15/100\n",
            "1/1 [==============================] - 0s 108ms/step - loss: 6.1993 - accuracy: 0.4231 - val_loss: 5.3727 - val_accuracy: 0.3333\n",
            "Epoch 16/100\n",
            "1/1 [==============================] - 0s 116ms/step - loss: 7.4391 - accuracy: 0.4231 - val_loss: 5.3727 - val_accuracy: 0.3333\n",
            "Epoch 17/100\n",
            "1/1 [==============================] - 0s 110ms/step - loss: 6.8192 - accuracy: 0.4231 - val_loss: 5.3727 - val_accuracy: 0.3333\n",
            "Epoch 18/100\n",
            "1/1 [==============================] - 0s 109ms/step - loss: 8.6790 - accuracy: 0.4231 - val_loss: 5.3727 - val_accuracy: 0.3333\n",
            "Epoch 19/100\n",
            "1/1 [==============================] - 0s 105ms/step - loss: 7.4391 - accuracy: 0.4231 - val_loss: 5.3727 - val_accuracy: 0.3333\n",
            "Epoch 20/100\n",
            "1/1 [==============================] - 0s 109ms/step - loss: 8.6790 - accuracy: 0.4231 - val_loss: 5.3727 - val_accuracy: 0.3333\n",
            "Epoch 21/100\n",
            "1/1 [==============================] - 0s 112ms/step - loss: 5.5793 - accuracy: 0.4231 - val_loss: 5.3727 - val_accuracy: 0.3333\n",
            "Epoch 22/100\n",
            "1/1 [==============================] - 0s 105ms/step - loss: 9.2989 - accuracy: 0.4231 - val_loss: 5.3727 - val_accuracy: 0.3333\n",
            "Epoch 23/100\n",
            "1/1 [==============================] - 0s 106ms/step - loss: 9.2989 - accuracy: 0.4231 - val_loss: 10.7454 - val_accuracy: 0.3333\n",
            "Epoch 24/100\n",
            "1/1 [==============================] - 0s 105ms/step - loss: 7.4391 - accuracy: 0.4231 - val_loss: 10.7454 - val_accuracy: 0.3333\n",
            "Epoch 25/100\n",
            "1/1 [==============================] - 0s 114ms/step - loss: 6.1993 - accuracy: 0.4231 - val_loss: 10.7454 - val_accuracy: 0.3333\n",
            "Epoch 26/100\n",
            "1/1 [==============================] - 0s 111ms/step - loss: 7.4391 - accuracy: 0.4231 - val_loss: 10.7454 - val_accuracy: 0.3333\n",
            "Epoch 27/100\n",
            "1/1 [==============================] - 0s 109ms/step - loss: 9.2989 - accuracy: 0.4231 - val_loss: 10.7454 - val_accuracy: 0.3333\n",
            "Epoch 28/100\n",
            "1/1 [==============================] - 0s 118ms/step - loss: 7.4391 - accuracy: 0.4231 - val_loss: 10.7454 - val_accuracy: 0.3333\n",
            "Epoch 29/100\n",
            "1/1 [==============================] - 0s 111ms/step - loss: 8.0590 - accuracy: 0.4231 - val_loss: 10.7454 - val_accuracy: 0.3333\n",
            "Epoch 30/100\n",
            "1/1 [==============================] - 0s 114ms/step - loss: 9.9188 - accuracy: 0.4231 - val_loss: 10.7454 - val_accuracy: 0.3333\n",
            "Epoch 31/100\n",
            "1/1 [==============================] - 0s 105ms/step - loss: 7.4391 - accuracy: 0.4231 - val_loss: 10.7454 - val_accuracy: 0.3333\n",
            "Epoch 32/100\n",
            "1/1 [==============================] - 0s 103ms/step - loss: 9.2989 - accuracy: 0.4231 - val_loss: 10.7454 - val_accuracy: 0.3333\n",
            "Epoch 33/100\n",
            "1/1 [==============================] - 0s 106ms/step - loss: 8.0590 - accuracy: 0.4231 - val_loss: 10.7454 - val_accuracy: 0.3333\n",
            "Epoch 34/100\n",
            "1/1 [==============================] - 0s 106ms/step - loss: 9.9188 - accuracy: 0.4231 - val_loss: 10.7454 - val_accuracy: 0.3333\n",
            "Epoch 35/100\n",
            "1/1 [==============================] - 0s 102ms/step - loss: 6.8192 - accuracy: 0.4231 - val_loss: 10.7454 - val_accuracy: 0.3333\n",
            "Epoch 36/100\n",
            "1/1 [==============================] - 0s 100ms/step - loss: 6.8192 - accuracy: 0.4231 - val_loss: 10.7454 - val_accuracy: 0.3333\n",
            "Epoch 37/100\n",
            "1/1 [==============================] - 0s 106ms/step - loss: 8.0590 - accuracy: 0.4231 - val_loss: 10.7454 - val_accuracy: 0.3333\n",
            "Epoch 38/100\n",
            "1/1 [==============================] - 0s 105ms/step - loss: 8.0590 - accuracy: 0.4231 - val_loss: 10.7454 - val_accuracy: 0.3333\n",
            "Epoch 39/100\n",
            "1/1 [==============================] - 0s 108ms/step - loss: 8.6790 - accuracy: 0.4231 - val_loss: 10.7454 - val_accuracy: 0.3333\n",
            "Epoch 40/100\n",
            "1/1 [==============================] - 0s 104ms/step - loss: 6.1993 - accuracy: 0.4231 - val_loss: 10.7454 - val_accuracy: 0.3333\n",
            "Epoch 41/100\n",
            "1/1 [==============================] - 0s 105ms/step - loss: 8.6790 - accuracy: 0.4231 - val_loss: 10.7454 - val_accuracy: 0.3333\n",
            "Epoch 42/100\n",
            "1/1 [==============================] - 0s 108ms/step - loss: 6.1993 - accuracy: 0.4231 - val_loss: 10.7454 - val_accuracy: 0.3333\n",
            "Epoch 43/100\n",
            "1/1 [==============================] - 0s 111ms/step - loss: 8.0590 - accuracy: 0.4231 - val_loss: 10.7454 - val_accuracy: 0.3333\n",
            "Epoch 44/100\n",
            "1/1 [==============================] - 0s 104ms/step - loss: 8.0590 - accuracy: 0.4231 - val_loss: 10.7454 - val_accuracy: 0.3333\n",
            "Epoch 45/100\n",
            "1/1 [==============================] - 0s 103ms/step - loss: 9.9188 - accuracy: 0.4231 - val_loss: 10.7454 - val_accuracy: 0.3333\n",
            "Epoch 46/100\n",
            "1/1 [==============================] - 0s 114ms/step - loss: 3.0996 - accuracy: 0.4231 - val_loss: 10.7454 - val_accuracy: 0.3333\n",
            "Epoch 47/100\n",
            "1/1 [==============================] - 0s 112ms/step - loss: 7.4391 - accuracy: 0.4231 - val_loss: 10.7454 - val_accuracy: 0.3333\n",
            "Epoch 48/100\n",
            "1/1 [==============================] - 0s 103ms/step - loss: 6.1993 - accuracy: 0.4231 - val_loss: 10.7454 - val_accuracy: 0.3333\n",
            "Epoch 49/100\n",
            "1/1 [==============================] - 0s 106ms/step - loss: 8.6790 - accuracy: 0.4231 - val_loss: 10.7454 - val_accuracy: 0.3333\n",
            "Epoch 50/100\n",
            "1/1 [==============================] - 0s 103ms/step - loss: 7.4391 - accuracy: 0.4231 - val_loss: 10.7454 - val_accuracy: 0.3333\n",
            "Epoch 51/100\n",
            "1/1 [==============================] - 0s 109ms/step - loss: 9.2989 - accuracy: 0.4231 - val_loss: 10.7454 - val_accuracy: 0.3333\n",
            "Epoch 52/100\n",
            "1/1 [==============================] - 0s 109ms/step - loss: 8.6790 - accuracy: 0.4231 - val_loss: 10.7454 - val_accuracy: 0.3333\n",
            "Epoch 53/100\n",
            "1/1 [==============================] - 0s 103ms/step - loss: 6.8192 - accuracy: 0.4231 - val_loss: 10.7454 - val_accuracy: 0.3333\n",
            "Epoch 54/100\n",
            "1/1 [==============================] - 0s 110ms/step - loss: 7.4391 - accuracy: 0.4231 - val_loss: 10.7454 - val_accuracy: 0.3333\n",
            "Epoch 55/100\n",
            "1/1 [==============================] - 0s 110ms/step - loss: 8.0590 - accuracy: 0.4231 - val_loss: 10.7454 - val_accuracy: 0.3333\n",
            "Epoch 56/100\n",
            "1/1 [==============================] - 0s 102ms/step - loss: 10.5388 - accuracy: 0.4231 - val_loss: 10.7454 - val_accuracy: 0.3333\n",
            "Epoch 57/100\n",
            "1/1 [==============================] - 0s 107ms/step - loss: 9.2989 - accuracy: 0.4231 - val_loss: 10.7454 - val_accuracy: 0.3333\n",
            "Epoch 58/100\n",
            "1/1 [==============================] - 0s 161ms/step - loss: 6.1993 - accuracy: 0.4231 - val_loss: 10.7454 - val_accuracy: 0.3333\n",
            "Epoch 59/100\n",
            "1/1 [==============================] - 0s 150ms/step - loss: 8.6790 - accuracy: 0.4231 - val_loss: 10.7454 - val_accuracy: 0.3333\n",
            "Epoch 60/100\n",
            "1/1 [==============================] - 0s 179ms/step - loss: 8.0590 - accuracy: 0.4231 - val_loss: 10.7454 - val_accuracy: 0.3333\n",
            "Epoch 61/100\n",
            "1/1 [==============================] - 0s 135ms/step - loss: 8.6790 - accuracy: 0.4231 - val_loss: 10.7454 - val_accuracy: 0.3333\n",
            "Epoch 62/100\n",
            "1/1 [==============================] - 0s 156ms/step - loss: 9.9188 - accuracy: 0.4231 - val_loss: 10.7454 - val_accuracy: 0.3333\n",
            "Epoch 63/100\n",
            "1/1 [==============================] - 0s 134ms/step - loss: 8.6790 - accuracy: 0.4231 - val_loss: 10.7454 - val_accuracy: 0.3333\n",
            "Epoch 64/100\n",
            "1/1 [==============================] - 0s 146ms/step - loss: 9.9188 - accuracy: 0.4231 - val_loss: 10.7454 - val_accuracy: 0.3333\n",
            "Epoch 65/100\n",
            "1/1 [==============================] - 0s 182ms/step - loss: 12.3985 - accuracy: 0.4231 - val_loss: 10.7454 - val_accuracy: 0.3333\n",
            "Epoch 66/100\n",
            "1/1 [==============================] - 0s 177ms/step - loss: 8.0590 - accuracy: 0.4231 - val_loss: 10.7454 - val_accuracy: 0.3333\n",
            "Epoch 67/100\n",
            "1/1 [==============================] - 0s 189ms/step - loss: 8.6790 - accuracy: 0.4231 - val_loss: 10.7454 - val_accuracy: 0.3333\n",
            "Epoch 68/100\n",
            "1/1 [==============================] - 0s 151ms/step - loss: 9.9188 - accuracy: 0.4231 - val_loss: 10.7454 - val_accuracy: 0.3333\n",
            "Epoch 69/100\n",
            "1/1 [==============================] - 0s 137ms/step - loss: 8.0590 - accuracy: 0.4231 - val_loss: 10.7454 - val_accuracy: 0.3333\n",
            "Epoch 70/100\n",
            "1/1 [==============================] - 0s 141ms/step - loss: 10.5388 - accuracy: 0.4231 - val_loss: 10.7454 - val_accuracy: 0.3333\n",
            "Epoch 71/100\n",
            "1/1 [==============================] - 0s 141ms/step - loss: 9.9188 - accuracy: 0.4231 - val_loss: 10.7454 - val_accuracy: 0.3333\n",
            "Epoch 72/100\n",
            "1/1 [==============================] - 0s 177ms/step - loss: 6.1993 - accuracy: 0.4231 - val_loss: 10.7454 - val_accuracy: 0.3333\n",
            "Epoch 73/100\n",
            "1/1 [==============================] - 0s 145ms/step - loss: 7.4391 - accuracy: 0.4231 - val_loss: 10.7454 - val_accuracy: 0.3333\n",
            "Epoch 74/100\n",
            "1/1 [==============================] - 0s 147ms/step - loss: 6.1993 - accuracy: 0.4231 - val_loss: 10.7454 - val_accuracy: 0.3333\n",
            "Epoch 75/100\n",
            "1/1 [==============================] - 0s 138ms/step - loss: 8.0590 - accuracy: 0.4231 - val_loss: 10.7454 - val_accuracy: 0.3333\n",
            "Epoch 76/100\n",
            "1/1 [==============================] - 0s 133ms/step - loss: 6.8192 - accuracy: 0.4231 - val_loss: 10.7454 - val_accuracy: 0.3333\n",
            "Epoch 77/100\n",
            "1/1 [==============================] - 0s 144ms/step - loss: 7.4391 - accuracy: 0.4231 - val_loss: 10.7454 - val_accuracy: 0.3333\n",
            "Epoch 78/100\n",
            "1/1 [==============================] - 0s 140ms/step - loss: 9.9188 - accuracy: 0.4231 - val_loss: 10.7454 - val_accuracy: 0.3333\n",
            "Epoch 79/100\n",
            "1/1 [==============================] - 0s 135ms/step - loss: 9.9188 - accuracy: 0.4231 - val_loss: 10.7454 - val_accuracy: 0.3333\n",
            "Epoch 80/100\n",
            "1/1 [==============================] - 0s 151ms/step - loss: 8.6790 - accuracy: 0.4231 - val_loss: 10.7454 - val_accuracy: 0.3333\n",
            "Epoch 81/100\n",
            "1/1 [==============================] - 0s 186ms/step - loss: 8.6790 - accuracy: 0.4231 - val_loss: 10.7454 - val_accuracy: 0.3333\n",
            "Epoch 82/100\n",
            "1/1 [==============================] - 0s 180ms/step - loss: 8.6790 - accuracy: 0.4231 - val_loss: 10.7454 - val_accuracy: 0.3333\n",
            "Epoch 83/100\n",
            "1/1 [==============================] - 0s 154ms/step - loss: 8.6790 - accuracy: 0.4231 - val_loss: 10.7454 - val_accuracy: 0.3333\n",
            "Epoch 84/100\n",
            "1/1 [==============================] - 0s 115ms/step - loss: 10.5388 - accuracy: 0.4231 - val_loss: 10.7454 - val_accuracy: 0.3333\n",
            "Epoch 85/100\n",
            "1/1 [==============================] - 0s 110ms/step - loss: 8.0590 - accuracy: 0.4231 - val_loss: 10.7454 - val_accuracy: 0.3333\n",
            "Epoch 86/100\n",
            "1/1 [==============================] - 0s 119ms/step - loss: 7.4391 - accuracy: 0.4231 - val_loss: 10.7454 - val_accuracy: 0.3333\n",
            "Epoch 87/100\n",
            "1/1 [==============================] - 0s 105ms/step - loss: 9.9188 - accuracy: 0.4231 - val_loss: 10.7454 - val_accuracy: 0.3333\n",
            "Epoch 88/100\n",
            "1/1 [==============================] - 0s 107ms/step - loss: 6.1993 - accuracy: 0.4231 - val_loss: 10.7454 - val_accuracy: 0.3333\n",
            "Epoch 89/100\n",
            "1/1 [==============================] - 0s 105ms/step - loss: 10.5388 - accuracy: 0.4231 - val_loss: 10.7454 - val_accuracy: 0.3333\n",
            "Epoch 90/100\n",
            "1/1 [==============================] - 0s 108ms/step - loss: 7.4391 - accuracy: 0.4231 - val_loss: 10.7454 - val_accuracy: 0.3333\n",
            "Epoch 91/100\n",
            "1/1 [==============================] - 0s 113ms/step - loss: 8.6790 - accuracy: 0.4231 - val_loss: 10.7454 - val_accuracy: 0.3333\n",
            "Epoch 92/100\n",
            "1/1 [==============================] - 0s 115ms/step - loss: 8.6790 - accuracy: 0.4231 - val_loss: 10.7454 - val_accuracy: 0.3333\n",
            "Epoch 93/100\n",
            "1/1 [==============================] - 0s 112ms/step - loss: 10.5388 - accuracy: 0.4231 - val_loss: 10.7454 - val_accuracy: 0.3333\n",
            "Epoch 94/100\n",
            "1/1 [==============================] - 0s 133ms/step - loss: 9.2989 - accuracy: 0.4231 - val_loss: 10.7454 - val_accuracy: 0.3333\n",
            "Epoch 95/100\n",
            "1/1 [==============================] - 0s 116ms/step - loss: 10.5388 - accuracy: 0.4231 - val_loss: 10.7454 - val_accuracy: 0.3333\n",
            "Epoch 96/100\n",
            "1/1 [==============================] - 0s 115ms/step - loss: 8.0590 - accuracy: 0.4231 - val_loss: 10.7454 - val_accuracy: 0.3333\n",
            "Epoch 97/100\n",
            "1/1 [==============================] - 0s 114ms/step - loss: 8.6790 - accuracy: 0.4231 - val_loss: 10.7454 - val_accuracy: 0.3333\n",
            "Epoch 98/100\n",
            "1/1 [==============================] - 0s 109ms/step - loss: 8.6790 - accuracy: 0.4231 - val_loss: 10.7454 - val_accuracy: 0.3333\n",
            "Epoch 99/100\n",
            "1/1 [==============================] - 0s 110ms/step - loss: 11.1587 - accuracy: 0.4231 - val_loss: 10.7454 - val_accuracy: 0.3333\n",
            "Epoch 100/100\n",
            "1/1 [==============================] - 0s 105ms/step - loss: 8.0590 - accuracy: 0.4231 - val_loss: 10.7454 - val_accuracy: 0.3333\n",
            "1/1 [==============================] - 1s 892ms/step\n",
            "Test accuracy: 0.0%\n",
            "Test top 5 accuracy: 100.0%\n"
          ]
        }
      ]
    }
  ],
  "metadata": {
    "accelerator": "GPU",
    "colab": {
      "name": "image_classification_with_vision_transformer",
      "provenance": []
    },
    "environment": {
      "name": "tf2-gpu.2-4.m61",
      "type": "gcloud",
      "uri": "gcr.io/deeplearning-platform-release/tf2-gpu.2-4:m61"
    },
    "kernelspec": {
      "display_name": "Python 3",
      "language": "python",
      "name": "python3"
    },
    "language_info": {
      "codemirror_mode": {
        "name": "ipython",
        "version": 3
      },
      "file_extension": ".py",
      "mimetype": "text/x-python",
      "name": "python",
      "nbconvert_exporter": "python",
      "pygments_lexer": "ipython3",
      "version": "3.7.9"
    }
  },
  "nbformat": 4,
  "nbformat_minor": 0
}