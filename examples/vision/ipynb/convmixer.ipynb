{
  "cells": [
    {
      "cell_type": "markdown",
      "metadata": {
        "id": "UyU0Q38oxebw"
      },
      "source": [
        "# Image classification with ConvMixer\n",
        "\n",
        "**Author:** [Sayak Paul](https://twitter.com/RisingSayak)<br>\n",
        "**Date created:** 2021/10/12<br>\n",
        "**Last modified:** 2021/10/12<br>\n",
        "**Description:** An all-convolutional network applied to patches of images."
      ]
    },
    {
      "cell_type": "markdown",
      "metadata": {
        "id": "Ex2p5dTsxedp"
      },
      "source": [
        "## Introduction\n",
        "\n",
        "Vision Transformers (ViT; [Dosovitskiy et al.](https://arxiv.org/abs/1612.00593)) extract\n",
        "small patches from the input images, linearly project them, and then apply the\n",
        "Transformer ([Vaswani et al.](https://arxiv.org/abs/1706.03762)) blocks. The application\n",
        "of ViTs to image recognition tasks is quickly becoming a promising area of research,\n",
        "because ViTs eliminate the need to have strong inductive biases (such as convolutions) for\n",
        "modeling locality. This presents them as a general computation primititive capable of\n",
        "learning just from the training data with as minimal inductive priors as possible. ViTs\n",
        "yield great downstream performance when trained with proper regularization, data\n",
        "augmentation, and relatively large datasets.\n",
        "\n",
        "In the [Patches Are All You Need](https://openreview.net/pdf?id=TVHS5Y4dNvM) paper (note: at\n",
        "the time of writing, it is a submission to the ICLR 2022 conference), the authors extend\n",
        "the idea of using patches to train an all-convolutional network and demonstrate\n",
        "competitive results. Their architecture namely **ConvMixer** uses recipes from the recent\n",
        "isotrophic architectures like ViT, MLP-Mixer\n",
        "([Tolstikhin et al.](https://arxiv.org/abs/2105.01601)), such as using the same\n",
        "depth and resolution across different layers in the network, residual connections,\n",
        "and so on.\n",
        "\n",
        "In this example, we will implement the ConvMixer model and demonstrate its performance on\n",
        "the CIFAR-10 dataset.\n",
        "\n",
        "To use the AdamW optimizer, we need to install TensorFlow Addons:\n",
        "\n",
        "```shell\n",
        "pip install -U -q tensorflow-addons\n",
        "```"
      ]
    },
    {
      "cell_type": "code",
      "source": [
        "pip install -U -q tensorflow-addons"
      ],
      "metadata": {
        "id": "AHMwAItRzYLU"
      },
      "execution_count": 1,
      "outputs": []
    },
    {
      "cell_type": "markdown",
      "metadata": {
        "id": "uME3dCbWxed0"
      },
      "source": [
        "## Imports"
      ]
    },
    {
      "cell_type": "code",
      "execution_count": 2,
      "metadata": {
        "id": "W-jSeUEDxed5",
        "outputId": "865535a2-8dff-4c40-a1db-501d48268099",
        "colab": {
          "base_uri": "https://localhost:8080/"
        }
      },
      "outputs": [
        {
          "output_type": "stream",
          "name": "stderr",
          "text": [
            "/usr/local/lib/python3.9/dist-packages/tensorflow_addons/utils/tfa_eol_msg.py:23: UserWarning: \n",
            "\n",
            "TensorFlow Addons (TFA) has ended development and introduction of new features.\n",
            "TFA has entered a minimal maintenance and release mode until a planned end of life in May 2024.\n",
            "Please modify downstream libraries to take dependencies from other repositories in our TensorFlow community (e.g. Keras, Keras-CV, and Keras-NLP). \n",
            "\n",
            "For more information see: https://github.com/tensorflow/addons/issues/2807 \n",
            "\n",
            "  warnings.warn(\n"
          ]
        }
      ],
      "source": [
        "from tensorflow.keras import layers\n",
        "from tensorflow import keras\n",
        "\n",
        "import matplotlib.pyplot as plt\n",
        "import tensorflow_addons as tfa\n",
        "import tensorflow as tf\n",
        "import numpy as np"
      ]
    },
    {
      "cell_type": "markdown",
      "metadata": {
        "id": "wq6EnsTxxeee"
      },
      "source": [
        "## Hyperparameters\n",
        "\n",
        "To keep run time short, we will train the model for only 10 epochs. To focus on\n",
        "the core ideas of ConvMixer, we will not use other training-specific elements like\n",
        "RandAugment ([Cubuk et al.](https://arxiv.org/abs/1909.13719)). If you are interested in\n",
        "learning more about those details, please refer to the\n",
        "[original paper](https://openreview.net/pdf?id=TVHS5Y4dNvM)."
      ]
    },
    {
      "cell_type": "code",
      "execution_count": 3,
      "metadata": {
        "id": "N6cx2lbHxeew"
      },
      "outputs": [],
      "source": [
        "learning_rate = 0.001\n",
        "weight_decay = 0.0001\n",
        "batch_size = 32\n",
        "num_epochs = 10"
      ]
    },
    {
      "cell_type": "code",
      "source": [],
      "metadata": {
        "id": "GL6njKb2zo90"
      },
      "execution_count": null,
      "outputs": []
    },
    {
      "cell_type": "code",
      "source": [
        "from google.colab import drive\n",
        "drive.mount('/content/drive')"
      ],
      "metadata": {
        "id": "Bmx-0GxSzqNA",
        "outputId": "dcc58d64-1ae3-4a17-bb2e-6523322994d5",
        "colab": {
          "base_uri": "https://localhost:8080/"
        }
      },
      "execution_count": 4,
      "outputs": [
        {
          "output_type": "stream",
          "name": "stdout",
          "text": [
            "Drive already mounted at /content/drive; to attempt to forcibly remount, call drive.mount(\"/content/drive\", force_remount=True).\n"
          ]
        }
      ]
    },
    {
      "cell_type": "code",
      "source": [
        "import tensorflow as tf\n",
        "import pathlib\n",
        "\n",
        "# Define the paths to the training and testing data folders\n",
        "train_data_path = \"/content/drive/MyDrive/Azymer (1)/AlzheimerDataset/train\"\n",
        "test_data_path = \"/content/drive/MyDrive/Azymer (1)/AlzheimerDataset/test\"\n",
        "\n",
        "# Use TensorFlow's image data generator to load the images and labels from the folders\n",
        "train_data_generator = tf.keras.preprocessing.image.ImageDataGenerator(rescale=1./255)\n",
        "test_data_generator = tf.keras.preprocessing.image.ImageDataGenerator(rescale=1./255)\n",
        "\n",
        "train_data = train_data_generator.flow_from_directory(directory=train_data_path,\n",
        "                                                      target_size=(176, 208),\n",
        "                                                      batch_size=32,\n",
        "                                                      class_mode='categorical',\n",
        "                                                      shuffle=True)\n",
        "\n",
        "test_data = test_data_generator.flow_from_directory(directory=test_data_path,\n",
        "                                                    target_size=(176, 208),\n",
        "                                                    batch_size=32,\n",
        "                                                    class_mode='categorical',\n",
        "                                                    shuffle=False)\n",
        "\n",
        "# Print the shapes of the data and labels\n",
        "print(\"Training data shape:\", train_data.image_shape)\n",
        "print(\"Training labels shape:\", train_data.classes.shape)\n",
        "print(\"Testing data shape:\", test_data.image_shape)\n",
        "print(\"Testing labels shape:\", test_data.classes.shape)\n",
        "\n",
        "# Assign the data and labels to variables x_train, y_train, x_test, and y_test\n",
        "x_train, y_train = train_data.next()\n",
        "x_test, y_test = test_data.next()\n"
      ],
      "metadata": {
        "id": "-GhlxH4Hzk-T",
        "outputId": "59417f7c-efe1-4dd5-8f73-b558bb522d9f",
        "colab": {
          "base_uri": "https://localhost:8080/"
        }
      },
      "execution_count": 5,
      "outputs": [
        {
          "output_type": "stream",
          "name": "stdout",
          "text": [
            "Found 7681 images belonging to 4 classes.\n",
            "Found 1750 images belonging to 4 classes.\n",
            "Training data shape: (176, 208, 3)\n",
            "Training labels shape: (7681,)\n",
            "Testing data shape: (176, 208, 3)\n",
            "Testing labels shape: (1750,)\n"
          ]
        }
      ]
    },
    {
      "cell_type": "markdown",
      "metadata": {
        "id": "36a87P7oxegE"
      },
      "source": [
        "## Load the CIFAR-10 dataset"
      ]
    },
    {
      "cell_type": "code",
      "execution_count": 6,
      "metadata": {
        "id": "0SQdtTY8xegV",
        "outputId": "701ebba5-7ba7-4e61-92c6-7972f87adb4b",
        "colab": {
          "base_uri": "https://localhost:8080/"
        }
      },
      "outputs": [
        {
          "output_type": "stream",
          "name": "stdout",
          "text": [
            "Training data samples: 29\n",
            "Validation data samples: 3\n",
            "Test data samples: 32\n"
          ]
        }
      ],
      "source": [
        "#(x_train, y_train), (x_test, y_test) = keras.datasets.cifar10.load_data()\n",
        "val_split = 0.1\n",
        "\n",
        "val_indices = int(len(x_train) * val_split)\n",
        "new_x_train, new_y_train = x_train[val_indices:], y_train[val_indices:]\n",
        "x_val, y_val = x_train[:val_indices], y_train[:val_indices]\n",
        "\n",
        "print(f\"Training data samples: {len(new_x_train)}\")\n",
        "print(f\"Validation data samples: {len(x_val)}\")\n",
        "print(f\"Test data samples: {len(x_test)}\")"
      ]
    },
    {
      "cell_type": "markdown",
      "metadata": {
        "id": "6ac6nBSgxegg"
      },
      "source": [
        "## Prepare `tf.data.Dataset` objects\n",
        "\n",
        "Our data augmentation pipeline is different from what the authors used for the CIFAR-10\n",
        "dataset, which is fine for the purpose of the example."
      ]
    },
    {
      "cell_type": "code",
      "execution_count": 7,
      "metadata": {
        "id": "XcoWGrd5xegj"
      },
      "outputs": [],
      "source": [
        "image_size = 176\n",
        "auto = tf.data.AUTOTUNE\n",
        "\n",
        "data_augmentation = keras.Sequential(\n",
        "    [layers.RandomCrop(image_size, image_size), layers.RandomFlip(\"horizontal\"),],\n",
        "    name=\"data_augmentation\",\n",
        ")\n",
        "\n",
        "\n",
        "def make_datasets(images, labels, is_train=False):\n",
        "    dataset = tf.data.Dataset.from_tensor_slices((images, labels))\n",
        "    if is_train:\n",
        "        dataset = dataset.shuffle(batch_size * 10)\n",
        "    dataset = dataset.batch(batch_size)\n",
        "    if is_train:\n",
        "        dataset = dataset.map(\n",
        "            lambda x, y: (data_augmentation(x), y), num_parallel_calls=auto\n",
        "        )\n",
        "    return dataset.prefetch(auto)\n",
        "\n",
        "\n",
        "train_dataset = make_datasets(new_x_train, new_y_train, is_train=True)\n",
        "val_dataset = make_datasets(x_val, y_val)\n",
        "test_dataset = make_datasets(x_test, y_test)"
      ]
    },
    {
      "cell_type": "markdown",
      "metadata": {
        "id": "YdwVUtpXxegn"
      },
      "source": [
        "## ConvMixer utilities\n",
        "\n",
        "The following figure (taken from the original paper) depicts the ConvMixer model:\n",
        "\n",
        "![](https://i.imgur.com/yF8actg.png)\n",
        "\n",
        "ConvMixer is very similar to the MLP-Mixer, model with the following key\n",
        "differences:\n",
        "\n",
        "* Instead of using fully-connected layers, it uses standard convolution layers.\n",
        "* Instead of LayerNorm (which is typical for ViTs and MLP-Mixers), it uses BatchNorm.\n",
        "\n",
        "Two types of convolution layers are used in ConvMixer. **(1)**: Depthwise convolutions,\n",
        "for mixing spatial locations of the images, **(2)**: Pointwise convolutions (which follow\n",
        "the depthwise convolutions), for mixing channel-wise information across the patches.\n",
        "Another keypoint is the use of *larger kernel sizes* to allow a larger receptive field."
      ]
    },
    {
      "cell_type": "code",
      "execution_count": 8,
      "metadata": {
        "id": "YPE2IxmbxehD"
      },
      "outputs": [],
      "source": [
        "\n",
        "def activation_block(x):\n",
        "    x = layers.Activation(\"gelu\")(x)\n",
        "    return layers.BatchNormalization()(x)\n",
        "\n",
        "\n",
        "def conv_stem(x, filters: int, patch_size: int):\n",
        "    x = layers.Conv2D(filters, kernel_size=patch_size, strides=patch_size)(x)\n",
        "    return activation_block(x)\n",
        "\n",
        "\n",
        "def conv_mixer_block(x, filters: int, kernel_size: int):\n",
        "    # Depthwise convolution.\n",
        "    x0 = x\n",
        "    x = layers.DepthwiseConv2D(kernel_size=kernel_size, padding=\"same\")(x)\n",
        "    x = layers.Add()([activation_block(x), x0])  # Residual.\n",
        "\n",
        "    # Pointwise convolution.\n",
        "    x = layers.Conv2D(filters, kernel_size=1)(x)\n",
        "    x = activation_block(x)\n",
        "\n",
        "    return x\n",
        "\n",
        "\n",
        "def get_conv_mixer_256_8(\n",
        "    image_size=176, filters=256, depth=8, kernel_size=5, patch_size=2, num_classes=10\n",
        "):\n",
        "    \"\"\"ConvMixer-256/8: https://openreview.net/pdf?id=TVHS5Y4dNvM.\n",
        "    The hyperparameter values are taken from the paper.\n",
        "    \"\"\"\n",
        "    inputs = keras.Input((image_size, image_size, 3))\n",
        "    x = layers.Rescaling(scale=1.0 / 255)(inputs)\n",
        "\n",
        "    # Extract patch embeddings.\n",
        "    x = conv_stem(x, filters, patch_size)\n",
        "\n",
        "    # ConvMixer blocks.\n",
        "    for _ in range(depth):\n",
        "        x = conv_mixer_block(x, filters, kernel_size)\n",
        "\n",
        "    # Classification block.\n",
        "    x = layers.GlobalAvgPool2D()(x)\n",
        "    outputs = layers.Dense(num_classes, activation=\"softmax\")(x)\n",
        "\n",
        "    return keras.Model(inputs, outputs)\n"
      ]
    },
    {
      "cell_type": "markdown",
      "metadata": {
        "id": "jQjTJacdxehN"
      },
      "source": [
        "The model used in this experiment is termed as **ConvMixer-256/8** where 256 denotes the\n",
        "number of channels and 8 denotes the depth. The resulting model only has 0.8 million\n",
        "parameters."
      ]
    },
    {
      "cell_type": "markdown",
      "metadata": {
        "id": "zKISV-yrxehS"
      },
      "source": [
        "## Model training and evaluation utility"
      ]
    },
    {
      "cell_type": "code",
      "execution_count": 9,
      "metadata": {
        "id": "gq1Box8BxehT"
      },
      "outputs": [],
      "source": [
        "# Code reference:\n",
        "# https://keras.io/examples/vision/image_classification_with_vision_transformer/.\n",
        "\n",
        "\n",
        "def run_experiment(model):\n",
        "    optimizer = tfa.optimizers.AdamW(\n",
        "        learning_rate=learning_rate, weight_decay=weight_decay\n",
        "    )\n",
        "\n",
        "    model.compile(\n",
        "        optimizer=optimizer,\n",
        "        loss=\"sparse_categorical_crossentropy\",\n",
        "        metrics=[\"accuracy\"],\n",
        "    )\n",
        "\n",
        "    checkpoint_filepath = \"/tmp/checkpoint\"\n",
        "    checkpoint_callback = keras.callbacks.ModelCheckpoint(\n",
        "        checkpoint_filepath,\n",
        "        monitor=\"val_accuracy\",\n",
        "        save_best_only=True,\n",
        "        save_weights_only=True,\n",
        "    )\n",
        "\n",
        "    history = model.fit(\n",
        "        train_dataset,\n",
        "        validation_data=val_dataset,\n",
        "        epochs=num_epochs,\n",
        "        callbacks=[checkpoint_callback],\n",
        "    )\n",
        "\n",
        "    model.load_weights(checkpoint_filepath)\n",
        "    _, accuracy = model.evaluate(test_dataset)\n",
        "    print(f\"Test accuracy: {round(accuracy * 100, 2)}%\")\n",
        "\n",
        "    return history, model\n"
      ]
    },
    {
      "cell_type": "markdown",
      "metadata": {
        "id": "Fu3Lk-zWxehW"
      },
      "source": [
        "## Train and evaluate model"
      ]
    },
    {
      "cell_type": "code",
      "execution_count": null,
      "metadata": {
        "id": "zY9GRd_Qxehl",
        "outputId": "40adbc31-2d1c-43ca-8174-735b7ffdab9a",
        "colab": {
          "base_uri": "https://localhost:8080/"
        }
      },
      "outputs": [
        {
          "output_type": "stream",
          "name": "stdout",
          "text": [
            "Epoch 1/10\n"
          ]
        }
      ],
      "source": [
        "conv_mixer_model = get_conv_mixer_256_8()\n",
        "history, conv_mixer_model = run_experiment(conv_mixer_model)"
      ]
    },
    {
      "cell_type": "markdown",
      "metadata": {
        "id": "UHxbC43Wxeh3"
      },
      "source": [
        "The gap in training and validation performance can be mitigated by using additional\n",
        "regularization techniques. Nevertheless, being able to get to ~83% accuracy within 10\n",
        "epochs with 0.8 million parameters is a strong result."
      ]
    },
    {
      "cell_type": "markdown",
      "metadata": {
        "id": "eVKg29ZRxeh9"
      },
      "source": [
        "## Visualizing the internals of ConvMixer\n",
        "\n",
        "We can visualize the patch embeddings and the learned convolution filters. Recall\n",
        "that each patch embedding and intermediate feature map have the same number of channels\n",
        "(256 in this case). This will make our visualization utility easier to implement."
      ]
    },
    {
      "cell_type": "code",
      "execution_count": null,
      "metadata": {
        "id": "ApzPFiyXxeiM"
      },
      "outputs": [],
      "source": [
        "# Code reference: https://bit.ly/3awIRbP.\n",
        "\n",
        "\n",
        "def visualization_plot(weights, idx=1):\n",
        "    # First, apply min-max normalization to the\n",
        "    # given weights to avoid isotrophic scaling.\n",
        "    p_min, p_max = weights.min(), weights.max()\n",
        "    weights = (weights - p_min) / (p_max - p_min)\n",
        "\n",
        "    # Visualize all the filters.\n",
        "    num_filters = 256\n",
        "    plt.figure(figsize=(8, 8))\n",
        "\n",
        "    for i in range(num_filters):\n",
        "        current_weight = weights[:, :, :, i]\n",
        "        if current_weight.shape[-1] == 1:\n",
        "            current_weight = current_weight.squeeze()\n",
        "        ax = plt.subplot(16, 16, idx)\n",
        "        ax.set_xticks([])\n",
        "        ax.set_yticks([])\n",
        "        plt.imshow(current_weight)\n",
        "        idx += 1\n",
        "\n",
        "\n",
        "# We first visualize the learned patch embeddings.\n",
        "patch_embeddings = conv_mixer_model.layers[2].get_weights()[0]\n",
        "visualization_plot(patch_embeddings)"
      ]
    },
    {
      "cell_type": "markdown",
      "metadata": {
        "id": "Dy8hfrhPxeig"
      },
      "source": [
        "Even though we did not train the network to convergence, we can notice that different\n",
        "patches show different patterns. Some share similarity with others while some are very\n",
        "different. These visualizations are more salient with larger image sizes.\n",
        "\n",
        "Similarly, we can visualize the raw convolution kernels. This can help us understand\n",
        "the patterns to which a given kernel is receptive."
      ]
    },
    {
      "cell_type": "code",
      "execution_count": null,
      "metadata": {
        "id": "XqkYauEexeii"
      },
      "outputs": [],
      "source": [
        "# First, print the indices of the convolution layers that are not\n",
        "# pointwise convolutions.\n",
        "for i, layer in enumerate(conv_mixer_model.layers):\n",
        "    if isinstance(layer, layers.DepthwiseConv2D):\n",
        "        if layer.get_config()[\"kernel_size\"] == (5, 5):\n",
        "            print(i, layer)\n",
        "\n",
        "idx = 26  # Taking a kernel from the middle of the network.\n",
        "\n",
        "kernel = conv_mixer_model.layers[idx].get_weights()[0]\n",
        "kernel = np.expand_dims(kernel.squeeze(), axis=2)\n",
        "visualization_plot(kernel)"
      ]
    },
    {
      "cell_type": "markdown",
      "metadata": {
        "id": "O7s3HCqdxeik"
      },
      "source": [
        "We see that different filters in the kernel have different locality spans, and this pattern\n",
        "is likely to evolve with more training."
      ]
    },
    {
      "cell_type": "markdown",
      "metadata": {
        "id": "qbN8AfKKxeil"
      },
      "source": [
        "## Final notes\n",
        "\n",
        "There's been a recent trend on fusing convolutions with other data-agnostic operations\n",
        "like self-attention. Following works are along this line of research:\n",
        "\n",
        "* ConViT ([d'Ascoli et al.](https://arxiv.org/abs/2103.10697))\n",
        "* CCT ([Hassani et al.](https://arxiv.org/abs/2104.05704))\n",
        "* CoAtNet ([Dai et al.](https://arxiv.org/abs/2106.04803))\n",
        "\n",
        "| Trained Model | Demo |\n",
        "| :--: | :--: |\n",
        "| [![Generic badge](https://img.shields.io/badge/🤗%20Model-ConvMixer-black.svg)](https://huggingface.co/keras-io/conv_Mixer) | [![Generic badge](https://img.shields.io/badge/🤗%20Spaces-ConvMixer-black.svg)](https://huggingface.co/spaces/keras-io/conv_Mixer) |"
      ]
    }
  ],
  "metadata": {
    "accelerator": "TPU",
    "colab": {
      "name": "convmixer",
      "provenance": []
    },
    "kernelspec": {
      "display_name": "Python 3",
      "language": "python",
      "name": "python3"
    },
    "language_info": {
      "codemirror_mode": {
        "name": "ipython",
        "version": 3
      },
      "file_extension": ".py",
      "mimetype": "text/x-python",
      "name": "python",
      "nbconvert_exporter": "python",
      "pygments_lexer": "ipython3",
      "version": "3.7.0"
    },
    "gpuClass": "standard"
  },
  "nbformat": 4,
  "nbformat_minor": 0
}